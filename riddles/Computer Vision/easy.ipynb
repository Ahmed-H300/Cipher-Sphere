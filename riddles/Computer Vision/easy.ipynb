{
  "cells": [
    {
      "cell_type": "code",
      "execution_count": 14,
      "metadata": {
        "id": "CkJwYVNOBv_b"
      },
      "outputs": [],
      "source": [
        "# Add the necessary imports here\n",
        "import pandas as pd\n",
        "import torch\n",
        "import numpy as np\n",
        "# from utils import *\n",
        "\n",
        "\n",
        "def solve_cv_easy(test_case: tuple) -> list:\n",
        "    shredded_image, shred_width = test_case\n",
        "    shredded_image = np.array(shredded_image)\n",
        "    \"\"\"\n",
        "    This function takes a tuple as input and returns a list as output.\n",
        "\n",
        "    Parameters:\n",
        "    input (tuple): A tuple containing two elements:\n",
        "        - A numpy array representing a shredded image.\n",
        "        - An integer representing the shred width in pixels.\n",
        "\n",
        "    Returns:\n",
        "    list: A list of integers representing the order of shreds. When combined in this order, it builds the whole image.\n",
        "    \"\"\"\n",
        "    num_shreds = shredded_image.shape[1] // shred_width\n",
        "    result = [0]\n",
        "    available_shreds = list(range(1, num_shreds))\n",
        "    while len(result) < num_shreds:\n",
        "        min_diff = float('inf')\n",
        "        best_match = None\n",
        "        for i in available_shreds:\n",
        "            diff = np.sum(np.abs(shredded_image[:, result[-1]*shred_width+shred_width-1, :] - shredded_image[:, i*shred_width, :]))\n",
        "            if diff < min_diff:\n",
        "                min_diff = diff\n",
        "                best_match = i\n",
        "        result.append(best_match)\n",
        "        available_shreds.remove(best_match)\n",
        "    return result\n",
        "\n",
        "\n",
        "def solve_cv_medium(input: tuple) -> list:\n",
        "    combined_image_array , patch_image_array = test_case\n",
        "    combined_image = np.array(combined_image_array,dtype=np.uint8)\n",
        "    patch_image = np.array(patch_image_array,dtype=np.uint8)\n",
        "    \"\"\"\n",
        "    This function takes a tuple as input and returns a list as output.\n",
        "\n",
        "    Parameters:\n",
        "    input (tuple): A tuple containing two elements:\n",
        "        - A numpy array representing the RGB base image.\n",
        "        - A numpy array representing the RGB patch image.\n",
        "\n",
        "    Returns:\n",
        "    list: A list representing the real image.\n",
        "    \"\"\"\n",
        "    return []\n",
        "\n",
        "\n",
        "def solve_cv_hard(input: tuple) -> int:\n",
        "    extracted_question, image = test_case\n",
        "    image = np.array(image)\n",
        "    \"\"\"\n",
        "    This function takes a tuple as input and returns an integer as output.\n",
        "\n",
        "    Parameters:\n",
        "    input (tuple): A tuple containing two elements:\n",
        "        - A string representing a question about an image.\n",
        "        - An RGB image object loaded using the Pillow library.\n",
        "\n",
        "    Returns:\n",
        "    int: An integer representing the answer to the question about the image.\n",
        "    \"\"\"\n",
        "    return 0\n",
        "\n",
        "\n",
        "def solve_ml_easy(input: pd.DataFrame) -> list:\n",
        "    data = pd.DataFrame(data)\n",
        "\n",
        "    \"\"\"\n",
        "    This function takes a pandas DataFrame as input and returns a list as output.\n",
        "\n",
        "    Parameters:\n",
        "    input (pd.DataFrame): A pandas DataFrame representing the input data.\n",
        "\n",
        "    Returns:\n",
        "    list: A list of floats representing the output of the function.\n",
        "    \"\"\"\n",
        "    return []\n",
        "\n",
        "\n",
        "def solve_ml_medium(input: list) -> int:\n",
        "    \"\"\"\n",
        "    This function takes a list as input and returns an integer as output.\n",
        "\n",
        "    Parameters:\n",
        "    input (list): A list of signed floats representing the input data.\n",
        "\n",
        "    Returns:\n",
        "    int: An integer representing the output of the function.\n",
        "    \"\"\"\n",
        "    return 0\n",
        "\n",
        "\n",
        "\n",
        "def solve_sec_medium(input: torch.Tensor) -> str:\n",
        "    img = torch.tensor(img)\n",
        "    \"\"\"\n",
        "    This function takes a torch.Tensor as input and returns a string as output.\n",
        "\n",
        "    Parameters:\n",
        "    input (torch.Tensor): A torch.Tensor representing the image that has the encoded message.\n",
        "\n",
        "    Returns:\n",
        "    str: A string representing the decoded message from the image.\n",
        "    \"\"\"\n",
        "    return ''\n",
        "\n",
        "def solve_sec_hard(input:tuple)->str:\n",
        "    \"\"\"\n",
        "    This function takes a tuple as input and returns a list a string.\n",
        "\n",
        "    Parameters:\n",
        "    input (tuple): A tuple containing two elements:\n",
        "        - A key\n",
        "        - A Plain text.\n",
        "\n",
        "    Returns:\n",
        "    list:A string of ciphered text\n",
        "    \"\"\"\n",
        "\n",
        "    return ''\n",
        "\n",
        "def solve_problem_solving_easy(input: tuple) -> list:\n",
        "    \"\"\"\n",
        "    This function takes a tuple as input and returns a list as output.\n",
        "\n",
        "    Parameters:\n",
        "    input (tuple): A tuple containing two elements:\n",
        "        - A list of strings representing a question.\n",
        "        - An integer representing a key.\n",
        "\n",
        "    Returns:\n",
        "    list: A list of strings representing the solution to the problem.\n",
        "    \"\"\"\n",
        "    return []\n",
        "\n",
        "\n",
        "def solve_problem_solving_medium(input: str) -> str:\n",
        "    \"\"\"\n",
        "    This function takes a string as input and returns a string as output.\n",
        "\n",
        "    Parameters:\n",
        "    input (str): A string representing the input data.\n",
        "\n",
        "    Returns:\n",
        "    str: A string representing the solution to the problem.\n",
        "    \"\"\"\n",
        "    return ''\n",
        "\n",
        "\n",
        "def solve_problem_solving_hard(input: tuple) -> int:\n",
        "    \"\"\"\n",
        "    This function takes a tuple as input and returns an integer as output.\n",
        "\n",
        "    Parameters:\n",
        "    input (tuple): A tuple containing two integers representing m and n.\n",
        "\n",
        "    Returns:\n",
        "    int: An integer representing the solution to the problem.\n",
        "    \"\"\"\n",
        "    return 0\n",
        "\n",
        "\n",
        "riddle_solvers = {\n",
        "    'cv_easy': solve_cv_easy,\n",
        "    'cv_medium': solve_cv_medium,\n",
        "    'cv_hard': solve_cv_hard,\n",
        "    'ml_easy': solve_ml_easy,\n",
        "    'ml_medium': solve_ml_medium,\n",
        "    'sec_medium_stegano': solve_sec_medium,\n",
        "    'sec_hard':solve_sec_hard,\n",
        "    'problem_solving_easy': solve_problem_solving_easy,\n",
        "    'problem_solving_medium': solve_problem_solving_medium,\n",
        "    'problem_solving_hard': solve_problem_solving_hard\n",
        "}\n"
      ]
    },
    {
      "cell_type": "code",
      "execution_count": 15,
      "metadata": {
        "colab": {
          "base_uri": "https://localhost:8080/"
        },
        "id": "Eke2UdKwSMVS",
        "outputId": "b6c86dd7-6763-495b-fb2b-23b7b3ff0538"
      },
      "outputs": [
        {
          "name": "stdout",
          "output_type": "stream",
          "text": [
            "Image shape: (1024, 768, 3)\n"
          ]
        }
      ],
      "source": [
        "import cv2\n",
        "import numpy as np\n",
        "\n",
        "# Read the image\n",
        "image_path = 'shredded.png'\n",
        "image = cv2.imread(image_path)\n",
        "# Convert the image from BGR to RGB\n",
        "image = cv2.cvtColor(image, cv2.COLOR_BGR2RGB)\n",
        "# Display image shape\n",
        "print(\"Image shape:\", image.shape)"
      ]
    },
    {
      "cell_type": "code",
      "execution_count": 16,
      "metadata": {
        "colab": {
          "base_uri": "https://localhost:8080/"
        },
        "id": "PWnSalO-R-Rp",
        "outputId": "1c56aa9d-ca13-4405-f965-724ca221cfcc"
      },
      "outputs": [
        {
          "name": "stdout",
          "output_type": "stream",
          "text": [
            "[0, 11, 7, 1, 2, 10, 6, 4, 3, 5, 8, 9]\n"
          ]
        }
      ],
      "source": [
        "shred_width = 64\n",
        "cv_easy = (image,shred_width)\n",
        "res_arr = solve_cv_easy(cv_easy)\n",
        "print(res_arr)"
      ]
    },
    {
      "cell_type": "code",
      "execution_count": 10,
      "metadata": {
        "colab": {
          "base_uri": "https://localhost:8080/"
        },
        "id": "8QX8BiS_YkxS",
        "outputId": "46d92d41-8e9d-41cf-aa77-17694113ccb7"
      },
      "outputs": [
        {
          "name": "stdout",
          "output_type": "stream",
          "text": [
            "The image has been successfully reassembled and saved as 'reassembled.png'.\n"
          ]
        }
      ],
      "source": [
        "order = res_arr\n",
        "# Reorder the shreds\n",
        "reassembled_image = np.concatenate([image[:, i*shred_width:(i+1)*shred_width, :] for i in order], axis=1)\n",
        "\n",
        "# Convert the image back to BGR\n",
        "reassembled_image = cv2.cvtColor(reassembled_image, cv2.COLOR_RGB2BGR)\n",
        "\n",
        "# Save the reassembled image\n",
        "output_path = 'reassembled.png'\n",
        "cv2.imwrite(output_path, reassembled_image)\n",
        "\n",
        "print(\"The image has been successfully reassembled and saved as 'reassembled.png'.\")"
      ]
    },
    {
      "cell_type": "code",
      "execution_count": 1,
      "metadata": {
        "colab": {
          "base_uri": "https://localhost:8080/"
        },
        "id": "cDEx2lXpaiZ5",
        "outputId": "7ff69fe8-eeaf-45a1-d147-c491c89ad62c"
      },
      "outputs": [
        {
          "name": "stdout",
          "output_type": "stream",
          "text": [
            "Requirement already satisfied: networkx in /usr/local/lib/python3.10/dist-packages (3.2.1)\n"
          ]
        }
      ],
      "source": [
        "!pip install networkx"
      ]
    },
    {
      "cell_type": "code",
      "execution_count": null,
      "metadata": {
        "id": "9dKfjz6rajlx"
      },
      "outputs": [],
      "source": [
        "import cv2\n",
        "import numpy as np\n",
        "import networkx as nx\n",
        "import itertools\n",
        "\n",
        "def solve_cv_easy(test_case: tuple) -> list:\n",
        "    shredded_image, shred_width = test_case\n",
        "    shredded_image = np.array(shredded_image)\n",
        "    num_shreds = shredded_image.shape[1] // shred_width\n",
        "\n",
        "    # Create a graph\n",
        "    G = nx.Graph()\n",
        "\n",
        "    # Add nodes to the graph\n",
        "    for i in range(num_shreds):\n",
        "        G.add_node(i)\n",
        "\n",
        "    # Calculate the similarity between all pairs of shreds and add edges to the graph\n",
        "    for i in range(num_shreds):\n",
        "        for j in range(i+1, num_shreds):\n",
        "            diff = np.sum(np.abs(shredded_image[:, i*shred_width+shred_width-1, :] - shredded_image[:, j*shred_width, :]))\n",
        "            G.add_edge(i, j, weight=diff)\n",
        "\n",
        "    # Find the Hamiltonian path in the graph\n",
        "    paths = list(itertools.permutations(range(num_shreds)))\n",
        "    min_path = min(paths, key=lambda path: sum(G[path[i-1]][path[i]]['weight'] for i in range(1, num_shreds)))\n",
        "\n",
        "    # The first shred is in its correct place, so rotate the path to start with 0\n",
        "    min_path = list(np.roll(min_path, -min_path.index(0)))\n",
        "\n",
        "    return min_path\n",
        "\n",
        "# Read the image\n",
        "image_path = 'shredded.png'\n",
        "image = cv2.imread(image_path)\n",
        "\n",
        "# Convert the image from BGR to RGB\n",
        "image = cv2.cvtColor(image, cv2.COLOR_BGR2RGB)\n",
        "\n",
        "# Call the function with the image and shred width\n",
        "shred_width = 64  # Replace with the actual shred width\n",
        "order = solve_cv_easy((image, shred_width))\n",
        "\n",
        "# Reorder the shreds\n",
        "reassembled_image = np.concatenate([image[:, i*shred_width:(i+1)*shred_width, :] for i in order], axis=1)\n",
        "\n",
        "# Convert the image back to BGR\n",
        "reassembled_image = cv2.cvtColor(reassembled_image, cv2.COLOR_RGB2BGR)\n",
        "\n",
        "# Save the reassembled image\n",
        "output_path = 'reassembled2.png'\n",
        "cv2.imwrite(output_path, reassembled_image)\n",
        "\n",
        "print(\"The image has been successfully reassembled and saved as 'reassembled2.png'.\")"
      ]
    },
    {
      "cell_type": "code",
      "execution_count": 8,
      "metadata": {},
      "outputs": [
        {
          "data": {
            "text/plain": [
              "(1024, 768, 3)"
            ]
          },
          "execution_count": 8,
          "metadata": {},
          "output_type": "execute_result"
        }
      ],
      "source": [
        "import numpy as np\n",
        "import cv2\n",
        "shredded_image = cv2.imread(\"./shredded.png\")\n",
        "shredded_image.shape"
      ]
    },
    {
      "cell_type": "code",
      "execution_count": 9,
      "metadata": {},
      "outputs": [],
      "source": [
        "shred_width = 64\n",
        "\n",
        "# Convert the image to grayscale\n",
        "gray_image = cv2.cvtColor(shredded_image, cv2.COLOR_BGR2GRAY)\n",
        "\n",
        "# Split the image into shreds\n",
        "shreds = np.split(gray_image, gray_image.shape[1] // shred_width, axis=1)"
      ]
    },
    {
      "cell_type": "code",
      "execution_count": 132,
      "metadata": {},
      "outputs": [],
      "source": [
        "visisted_shreds=set()\n",
        "visisted_shreds.add(0)\n",
        "def similarity_score(shred1, shred2):\n",
        "      # Get the right edge of shred1 and the left edge of shred2\n",
        "  edge1 = shred1[:, -1]\n",
        "  edge2 = shred2[:, 0]\n",
        "\n",
        "  # Calculate the sum of absolute differences between the edges\n",
        "  eq = np.equal(edge1, edge2)\n",
        "  cnt = np.count_nonzero(eq)\n",
        "\n",
        "  # Return the similarity score as the inverse of the sad\n",
        "  return cnt\n",
        "\n",
        "# Define a function to find the best match for a given shred\n",
        "def find_best_match(shred, shreds):\n",
        "  # Initialize the best score and the best index\n",
        "  best_score = 0\n",
        "  best_index = -1\n",
        "\n",
        "  # Loop through the shreds\n",
        "  for i, s in enumerate(shreds):\n",
        "    # Skip the shred itself\n",
        "    if s is shred:\n",
        "      continue\n",
        "\n",
        "    # Calculate the similarity score with the shred\n",
        "    score = similarity_score(shred, s)\n",
        "    if score > best_score:\n",
        "        if i in visisted_shreds:\n",
        "          continue\n",
        "        best_score = score\n",
        "        best_index = i\n",
        "    \n",
        "\n",
        "  # Return the best index\n",
        "  visisted_shreds.add(best_index)\n",
        "  return best_index"
      ]
    },
    {
      "cell_type": "code",
      "execution_count": 133,
      "metadata": {},
      "outputs": [],
      "source": [
        "ordered_shreds = []\n",
        "\n",
        "shreds_indices=[0]\n",
        "# Start with the first shred\n",
        "current_shred = shreds[0]\n",
        "\n",
        "# Loop until all shreds are ordered\n",
        "while len(shreds_indices) < len(shreds):\n",
        "  # Append the current shred to the ordered shreds\n",
        "  ordered_shreds.append(current_shred)\n",
        "\n",
        "  # Find the best match for the current shred\n",
        "  best_index = find_best_match(current_shred, shreds)\n",
        "  shreds_indices.append(best_index)\n",
        "  # Set the current shred to the best match\n",
        "  current_shred = shreds[best_index]\n",
        "\n",
        "# Define a list to store the shreds' indices\n"
      ]
    },
    {
      "cell_type": "code",
      "execution_count": 134,
      "metadata": {},
      "outputs": [
        {
          "data": {
            "text/plain": [
              "[0, 11, 7, 1, 8, 9, 3, 5, 6, 4, 10, 2]"
            ]
          },
          "execution_count": 134,
          "metadata": {},
          "output_type": "execute_result"
        }
      ],
      "source": [
        "shreds_indices"
      ]
    },
    {
      "cell_type": "code",
      "execution_count": 152,
      "metadata": {},
      "outputs": [
        {
          "data": {
            "text/plain": [
              "array([[[254, 254, 254],\n",
              "        [254, 254, 254],\n",
              "        [254, 254, 254],\n",
              "        ...,\n",
              "        [196, 132,  68],\n",
              "        [196, 132,  68],\n",
              "        [198, 131,  68]],\n",
              "\n",
              "       [[254, 254, 254],\n",
              "        [254, 254, 254],\n",
              "        [254, 254, 254],\n",
              "        ...,\n",
              "        [196, 132,  68],\n",
              "        [196, 132,  68],\n",
              "        [198, 131,  68]],\n",
              "\n",
              "       [[254, 254, 254],\n",
              "        [254, 254, 254],\n",
              "        [254, 254, 254],\n",
              "        ...,\n",
              "        [197, 133,  69],\n",
              "        [197, 133,  69],\n",
              "        [197, 133,  69]],\n",
              "\n",
              "       ...,\n",
              "\n",
              "       [[  0,   0,   0],\n",
              "        [  0,   0,   0],\n",
              "        [  0,   0,   0],\n",
              "        ...,\n",
              "        [118,  77,  36],\n",
              "        [117,  76,  35],\n",
              "        [117,  76,  36]],\n",
              "\n",
              "       [[  0,   0,   0],\n",
              "        [  0,   0,   0],\n",
              "        [  0,   0,   0],\n",
              "        ...,\n",
              "        [118,  79,  35],\n",
              "        [118,  78,  35],\n",
              "        [118,  78,  35]],\n",
              "\n",
              "       [[  0,   0,   0],\n",
              "        [  0,   0,   0],\n",
              "        [  0,   0,   0],\n",
              "        ...,\n",
              "        [117,  78,  34],\n",
              "        [118,  79,  35],\n",
              "        [118,  79,  35]]], dtype=uint8)"
            ]
          },
          "execution_count": 152,
          "metadata": {},
          "output_type": "execute_result"
        }
      ],
      "source": [
        "import numpy as np \n",
        "import cv2 \n",
        "\n",
        "\t\n",
        "# Read the query image as query_img \n",
        "# and train image This query image \n",
        "# is what you need to find in train image \n",
        "# Save it in the same directory \n",
        "# with the name image.jpg \n",
        "query_img = cv2.imread('./medium/patch_image.png') \n",
        "train_img = cv2.imread('./medium/combined_large_image.png') \n",
        "\n",
        "# Convert it to grayscale \n",
        "query_img_bw = cv2.cvtColor(query_img,cv2.COLOR_BGR2GRAY) \n",
        "train_img_bw = cv2.cvtColor(train_img, cv2.COLOR_BGR2GRAY) \n",
        "\n",
        "# Initialize the ORB detector algorithm \n",
        "orb = cv2.ORB_create() \n",
        "\n",
        "# Now detect the keypoints and compute \n",
        "# the descriptors for the query image \n",
        "# and train image \n",
        "queryKeypoints, queryDescriptors = orb.detectAndCompute(query_img_bw,None) \n",
        "trainKeypoints, trainDescriptors = orb.detectAndCompute(train_img_bw,None) \n",
        "\n",
        "# Initialize the Matcher for matching \n",
        "# the keypoints and then match the \n",
        "# keypoints \n",
        "matcher = cv2.BFMatcher() \n",
        "matches = matcher.match(queryDescriptors,trainDescriptors) \n",
        "\n",
        "# draw the matches to the final image \n",
        "# containing both the images the drawMatches() \n",
        "# function takes both images and keypoints \n",
        "# and outputs the matched query image with \n",
        "# its train image \n",
        "final_img = cv2.drawMatches(query_img, queryKeypoints, \n",
        "train_img, trainKeypoints, matches[:20],None) \n",
        "\n",
        "final_img = cv2.resize(final_img, (1000,650)) \n",
        "\n",
        "# Show the final image \n",
        "final_img"
      ]
    },
    {
      "cell_type": "code",
      "execution_count": null,
      "metadata": {},
      "outputs": [],
      "source": []
    }
  ],
  "metadata": {
    "accelerator": "GPU",
    "colab": {
      "gpuType": "T4",
      "provenance": []
    },
    "kernelspec": {
      "display_name": "Python 3",
      "name": "python3"
    },
    "language_info": {
      "codemirror_mode": {
        "name": "ipython",
        "version": 3
      },
      "file_extension": ".py",
      "mimetype": "text/x-python",
      "name": "python",
      "nbconvert_exporter": "python",
      "pygments_lexer": "ipython3",
      "version": "3.11.5"
    }
  },
  "nbformat": 4,
  "nbformat_minor": 0
}
