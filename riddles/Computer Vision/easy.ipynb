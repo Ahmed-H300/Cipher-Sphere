{
  "nbformat": 4,
  "nbformat_minor": 0,
  "metadata": {
    "colab": {
      "provenance": [],
      "gpuType": "T4"
    },
    "kernelspec": {
      "name": "python3",
      "display_name": "Python 3"
    },
    "language_info": {
      "name": "python"
    },
    "accelerator": "GPU"
  },
  "cells": [
    {
      "cell_type": "code",
      "execution_count": 14,
      "metadata": {
        "id": "CkJwYVNOBv_b"
      },
      "outputs": [],
      "source": [
        "# Add the necessary imports here\n",
        "import pandas as pd\n",
        "import torch\n",
        "import numpy as np\n",
        "# from utils import *\n",
        "\n",
        "\n",
        "def solve_cv_easy(test_case: tuple) -> list:\n",
        "    shredded_image, shred_width = test_case\n",
        "    shredded_image = np.array(shredded_image)\n",
        "    \"\"\"\n",
        "    This function takes a tuple as input and returns a list as output.\n",
        "\n",
        "    Parameters:\n",
        "    input (tuple): A tuple containing two elements:\n",
        "        - A numpy array representing a shredded image.\n",
        "        - An integer representing the shred width in pixels.\n",
        "\n",
        "    Returns:\n",
        "    list: A list of integers representing the order of shreds. When combined in this order, it builds the whole image.\n",
        "    \"\"\"\n",
        "    num_shreds = shredded_image.shape[1] // shred_width\n",
        "    result = [0]\n",
        "    available_shreds = list(range(1, num_shreds))\n",
        "    while len(result) < num_shreds:\n",
        "        min_diff = float('inf')\n",
        "        best_match = None\n",
        "        for i in available_shreds:\n",
        "            diff = np.sum(np.abs(shredded_image[:, result[-1]*shred_width+shred_width-1, :] - shredded_image[:, i*shred_width, :]))\n",
        "            if diff < min_diff:\n",
        "                min_diff = diff\n",
        "                best_match = i\n",
        "        result.append(best_match)\n",
        "        available_shreds.remove(best_match)\n",
        "    return result\n",
        "\n",
        "\n",
        "def solve_cv_medium(input: tuple) -> list:\n",
        "    combined_image_array , patch_image_array = test_case\n",
        "    combined_image = np.array(combined_image_array,dtype=np.uint8)\n",
        "    patch_image = np.array(patch_image_array,dtype=np.uint8)\n",
        "    \"\"\"\n",
        "    This function takes a tuple as input and returns a list as output.\n",
        "\n",
        "    Parameters:\n",
        "    input (tuple): A tuple containing two elements:\n",
        "        - A numpy array representing the RGB base image.\n",
        "        - A numpy array representing the RGB patch image.\n",
        "\n",
        "    Returns:\n",
        "    list: A list representing the real image.\n",
        "    \"\"\"\n",
        "    return []\n",
        "\n",
        "\n",
        "def solve_cv_hard(input: tuple) -> int:\n",
        "    extracted_question, image = test_case\n",
        "    image = np.array(image)\n",
        "    \"\"\"\n",
        "    This function takes a tuple as input and returns an integer as output.\n",
        "\n",
        "    Parameters:\n",
        "    input (tuple): A tuple containing two elements:\n",
        "        - A string representing a question about an image.\n",
        "        - An RGB image object loaded using the Pillow library.\n",
        "\n",
        "    Returns:\n",
        "    int: An integer representing the answer to the question about the image.\n",
        "    \"\"\"\n",
        "    return 0\n",
        "\n",
        "\n",
        "def solve_ml_easy(input: pd.DataFrame) -> list:\n",
        "    data = pd.DataFrame(data)\n",
        "\n",
        "    \"\"\"\n",
        "    This function takes a pandas DataFrame as input and returns a list as output.\n",
        "\n",
        "    Parameters:\n",
        "    input (pd.DataFrame): A pandas DataFrame representing the input data.\n",
        "\n",
        "    Returns:\n",
        "    list: A list of floats representing the output of the function.\n",
        "    \"\"\"\n",
        "    return []\n",
        "\n",
        "\n",
        "def solve_ml_medium(input: list) -> int:\n",
        "    \"\"\"\n",
        "    This function takes a list as input and returns an integer as output.\n",
        "\n",
        "    Parameters:\n",
        "    input (list): A list of signed floats representing the input data.\n",
        "\n",
        "    Returns:\n",
        "    int: An integer representing the output of the function.\n",
        "    \"\"\"\n",
        "    return 0\n",
        "\n",
        "\n",
        "\n",
        "def solve_sec_medium(input: torch.Tensor) -> str:\n",
        "    img = torch.tensor(img)\n",
        "    \"\"\"\n",
        "    This function takes a torch.Tensor as input and returns a string as output.\n",
        "\n",
        "    Parameters:\n",
        "    input (torch.Tensor): A torch.Tensor representing the image that has the encoded message.\n",
        "\n",
        "    Returns:\n",
        "    str: A string representing the decoded message from the image.\n",
        "    \"\"\"\n",
        "    return ''\n",
        "\n",
        "def solve_sec_hard(input:tuple)->str:\n",
        "    \"\"\"\n",
        "    This function takes a tuple as input and returns a list a string.\n",
        "\n",
        "    Parameters:\n",
        "    input (tuple): A tuple containing two elements:\n",
        "        - A key\n",
        "        - A Plain text.\n",
        "\n",
        "    Returns:\n",
        "    list:A string of ciphered text\n",
        "    \"\"\"\n",
        "\n",
        "    return ''\n",
        "\n",
        "def solve_problem_solving_easy(input: tuple) -> list:\n",
        "    \"\"\"\n",
        "    This function takes a tuple as input and returns a list as output.\n",
        "\n",
        "    Parameters:\n",
        "    input (tuple): A tuple containing two elements:\n",
        "        - A list of strings representing a question.\n",
        "        - An integer representing a key.\n",
        "\n",
        "    Returns:\n",
        "    list: A list of strings representing the solution to the problem.\n",
        "    \"\"\"\n",
        "    return []\n",
        "\n",
        "\n",
        "def solve_problem_solving_medium(input: str) -> str:\n",
        "    \"\"\"\n",
        "    This function takes a string as input and returns a string as output.\n",
        "\n",
        "    Parameters:\n",
        "    input (str): A string representing the input data.\n",
        "\n",
        "    Returns:\n",
        "    str: A string representing the solution to the problem.\n",
        "    \"\"\"\n",
        "    return ''\n",
        "\n",
        "\n",
        "def solve_problem_solving_hard(input: tuple) -> int:\n",
        "    \"\"\"\n",
        "    This function takes a tuple as input and returns an integer as output.\n",
        "\n",
        "    Parameters:\n",
        "    input (tuple): A tuple containing two integers representing m and n.\n",
        "\n",
        "    Returns:\n",
        "    int: An integer representing the solution to the problem.\n",
        "    \"\"\"\n",
        "    return 0\n",
        "\n",
        "\n",
        "riddle_solvers = {\n",
        "    'cv_easy': solve_cv_easy,\n",
        "    'cv_medium': solve_cv_medium,\n",
        "    'cv_hard': solve_cv_hard,\n",
        "    'ml_easy': solve_ml_easy,\n",
        "    'ml_medium': solve_ml_medium,\n",
        "    'sec_medium_stegano': solve_sec_medium,\n",
        "    'sec_hard':solve_sec_hard,\n",
        "    'problem_solving_easy': solve_problem_solving_easy,\n",
        "    'problem_solving_medium': solve_problem_solving_medium,\n",
        "    'problem_solving_hard': solve_problem_solving_hard\n",
        "}\n"
      ]
    },
    {
      "cell_type": "code",
      "source": [
        "import cv2\n",
        "import numpy as np\n",
        "\n",
        "# Read the image\n",
        "image_path = 'shredded.png'\n",
        "image = cv2.imread(image_path)\n",
        "# Convert the image from BGR to RGB\n",
        "image = cv2.cvtColor(image, cv2.COLOR_BGR2RGB)\n",
        "# Display image shape\n",
        "print(\"Image shape:\", image.shape)"
      ],
      "metadata": {
        "colab": {
          "base_uri": "https://localhost:8080/"
        },
        "id": "Eke2UdKwSMVS",
        "outputId": "b6c86dd7-6763-495b-fb2b-23b7b3ff0538"
      },
      "execution_count": 15,
      "outputs": [
        {
          "output_type": "stream",
          "name": "stdout",
          "text": [
            "Image shape: (1024, 768, 3)\n"
          ]
        }
      ]
    },
    {
      "cell_type": "code",
      "source": [
        "shred_width = 64\n",
        "cv_easy = (image,shred_width)\n",
        "res_arr = solve_cv_easy(cv_easy)\n",
        "print(res_arr)"
      ],
      "metadata": {
        "colab": {
          "base_uri": "https://localhost:8080/"
        },
        "id": "PWnSalO-R-Rp",
        "outputId": "1c56aa9d-ca13-4405-f965-724ca221cfcc"
      },
      "execution_count": 16,
      "outputs": [
        {
          "output_type": "stream",
          "name": "stdout",
          "text": [
            "[0, 11, 7, 1, 2, 10, 6, 4, 3, 5, 8, 9]\n"
          ]
        }
      ]
    },
    {
      "cell_type": "code",
      "source": [
        "order = res_arr\n",
        "# Reorder the shreds\n",
        "reassembled_image = np.concatenate([image[:, i*shred_width:(i+1)*shred_width, :] for i in order], axis=1)\n",
        "\n",
        "# Convert the image back to BGR\n",
        "reassembled_image = cv2.cvtColor(reassembled_image, cv2.COLOR_RGB2BGR)\n",
        "\n",
        "# Save the reassembled image\n",
        "output_path = 'reassembled.png'\n",
        "cv2.imwrite(output_path, reassembled_image)\n",
        "\n",
        "print(\"The image has been successfully reassembled and saved as 'reassembled.png'.\")"
      ],
      "metadata": {
        "colab": {
          "base_uri": "https://localhost:8080/"
        },
        "id": "8QX8BiS_YkxS",
        "outputId": "46d92d41-8e9d-41cf-aa77-17694113ccb7"
      },
      "execution_count": 10,
      "outputs": [
        {
          "output_type": "stream",
          "name": "stdout",
          "text": [
            "The image has been successfully reassembled and saved as 'reassembled.png'.\n"
          ]
        }
      ]
    },
    {
      "cell_type": "code",
      "source": [
        "!pip install networkx"
      ],
      "metadata": {
        "colab": {
          "base_uri": "https://localhost:8080/"
        },
        "id": "cDEx2lXpaiZ5",
        "outputId": "7ff69fe8-eeaf-45a1-d147-c491c89ad62c"
      },
      "execution_count": 1,
      "outputs": [
        {
          "output_type": "stream",
          "name": "stdout",
          "text": [
            "Requirement already satisfied: networkx in /usr/local/lib/python3.10/dist-packages (3.2.1)\n"
          ]
        }
      ]
    },
    {
      "cell_type": "code",
      "source": [
        "import cv2\n",
        "import numpy as np\n",
        "import networkx as nx\n",
        "import itertools\n",
        "\n",
        "def solve_cv_easy(test_case: tuple) -> list:\n",
        "    shredded_image, shred_width = test_case\n",
        "    shredded_image = np.array(shredded_image)\n",
        "    num_shreds = shredded_image.shape[1] // shred_width\n",
        "\n",
        "    # Create a graph\n",
        "    G = nx.Graph()\n",
        "\n",
        "    # Add nodes to the graph\n",
        "    for i in range(num_shreds):\n",
        "        G.add_node(i)\n",
        "\n",
        "    # Calculate the similarity between all pairs of shreds and add edges to the graph\n",
        "    for i in range(num_shreds):\n",
        "        for j in range(i+1, num_shreds):\n",
        "            diff = np.sum(np.abs(shredded_image[:, i*shred_width+shred_width-1, :] - shredded_image[:, j*shred_width, :]))\n",
        "            G.add_edge(i, j, weight=diff)\n",
        "\n",
        "    # Find the Hamiltonian path in the graph\n",
        "    paths = list(itertools.permutations(range(num_shreds)))\n",
        "    min_path = min(paths, key=lambda path: sum(G[path[i-1]][path[i]]['weight'] for i in range(1, num_shreds)))\n",
        "\n",
        "    # The first shred is in its correct place, so rotate the path to start with 0\n",
        "    min_path = list(np.roll(min_path, -min_path.index(0)))\n",
        "\n",
        "    return min_path\n",
        "\n",
        "# Read the image\n",
        "image_path = 'shredded.png'\n",
        "image = cv2.imread(image_path)\n",
        "\n",
        "# Convert the image from BGR to RGB\n",
        "image = cv2.cvtColor(image, cv2.COLOR_BGR2RGB)\n",
        "\n",
        "# Call the function with the image and shred width\n",
        "shred_width = 64  # Replace with the actual shred width\n",
        "order = solve_cv_easy((image, shred_width))\n",
        "\n",
        "# Reorder the shreds\n",
        "reassembled_image = np.concatenate([image[:, i*shred_width:(i+1)*shred_width, :] for i in order], axis=1)\n",
        "\n",
        "# Convert the image back to BGR\n",
        "reassembled_image = cv2.cvtColor(reassembled_image, cv2.COLOR_RGB2BGR)\n",
        "\n",
        "# Save the reassembled image\n",
        "output_path = 'reassembled2.png'\n",
        "cv2.imwrite(output_path, reassembled_image)\n",
        "\n",
        "print(\"The image has been successfully reassembled and saved as 'reassembled2.png'.\")"
      ],
      "metadata": {
        "id": "9dKfjz6rajlx"
      },
      "execution_count": null,
      "outputs": []
    }
  ]
}