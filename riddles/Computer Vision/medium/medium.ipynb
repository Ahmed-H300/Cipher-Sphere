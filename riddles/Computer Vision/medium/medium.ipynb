{
 "cells": [
  {
   "cell_type": "code",
   "execution_count": 2,
   "metadata": {},
   "outputs": [],
   "source": [
    "import numpy as np \n",
    "import cv2 \n",
    "from sklearn.cluster import DBSCAN\n",
    "\n",
    "\t\n",
    "# Read the query image as query_img \n",
    "# and train image This query image \n",
    "# is what you need to find in train image \n",
    "# Save it in the same directory \n",
    "# with the name image.jpg \n",
    "query_img = cv2.imread('patch_image.png') \n",
    "train_img = cv2.imread('combined_large_image.png') \n",
    "\n",
    "# Convert it to grayscale \n",
    "query_img_bw = cv2.cvtColor(query_img,cv2.COLOR_BGR2GRAY) \n",
    "train_img_bw = cv2.cvtColor(train_img, cv2.COLOR_BGR2GRAY) \n",
    "\n",
    "# Initialize the ORB detector algorithm \n",
    "orb = cv2.ORB_create() \n",
    "\n",
    "# Now detect the keypoints and compute \n",
    "# the descriptors for the query image \n",
    "# and train image \n",
    "queryKeypoints, queryDescriptors = orb.detectAndCompute(query_img_bw,None) \n",
    "trainKeypoints, trainDescriptors = orb.detectAndCompute(train_img_bw,None) \n",
    "\n",
    "# Initialize the Matcher for matching \n",
    "# the keypoints and then match the \n",
    "# keypoints \n",
    "matcher = cv2.BFMatcher() \n",
    "matches = matcher.match(queryDescriptors,trainDescriptors)\n",
    "good_matches = [m for m in matches if m.distance < 30]\n",
    "\n",
    "# draw the matches to the final image \n",
    "# containing both the images the drawMatches() \n",
    "# function takes both images and keypoints \n",
    "# and outputs the matched query image with \n",
    "# its train image \n",
    "final_img = cv2.drawMatches(query_img, queryKeypoints, \n",
    "train_img, trainKeypoints, good_matches[:20],None) \n",
    "\n",
    "final_img = cv2.resize(final_img, (1000,650)) \n",
    "\n",
    "\n"
   ]
  },
  {
   "cell_type": "code",
   "execution_count": 4,
   "metadata": {},
   "outputs": [],
   "source": [
    "edges = cv2.Canny(train_img_bw, 100, 200)\n",
    "contours, hierarchy = cv2.findContours(edges, cv2.RETR_TREE, cv2.CHAIN_APPROX_SIMPLE)\n"
   ]
  },
  {
   "cell_type": "code",
   "execution_count": 5,
   "metadata": {},
   "outputs": [],
   "source": [
    "counts = []\n",
    "for contour in contours:\n",
    "    count = 0\n",
    "    for keypoint in queryKeypoints:\n",
    "        # Get the coordinate of the keypoint\n",
    "        x, y = keypoint.pt\n",
    "        # Check if the keypoint is inside or on the contour\n",
    "        result = cv2.pointPolygonTest(contour, (x, y), False)\n",
    "        # If the result is not negative, the keypoint is inside or on the contour\n",
    "        if result >= 0:\n",
    "            count += 1\n",
    "    # Append the count to the list\n",
    "    counts.append(count)"
   ]
  },
  {
   "cell_type": "code",
   "execution_count": 6,
   "metadata": {},
   "outputs": [],
   "source": [
    "counts = np.array(counts)\n",
    "\n",
    "# Find the contour that has the maximum count of keypoints\n",
    "max_index = np.argmax(counts)\n",
    "max_contour = contours[max_index]"
   ]
  },
  {
   "cell_type": "code",
   "execution_count": 9,
   "metadata": {},
   "outputs": [
    {
     "ename": "error",
     "evalue": "OpenCV(4.6.0) C:\\b\\abs_f8n1j3l9l0\\croot\\opencv-suite_1691622637237\\work\\modules\\highgui\\src\\window.cpp:1267: error: (-2:Unspecified error) The function is not implemented. Rebuild the library with Windows, GTK+ 2.x or Cocoa support. If you are on Ubuntu or Debian, install libgtk2.0-dev and pkg-config, then re-run cmake or configure script in function 'cvShowImage'\n",
     "output_type": "error",
     "traceback": [
      "\u001b[1;31m---------------------------------------------------------------------------\u001b[0m",
      "\u001b[1;31merror\u001b[0m                                     Traceback (most recent call last)",
      "Cell \u001b[1;32mIn[9], line 8\u001b[0m\n\u001b[0;32m      5\u001b[0m image_copy \u001b[38;5;241m=\u001b[39m cv2\u001b[38;5;241m.\u001b[39mdrawKeypoints(image_copy, queryKeypoints, \u001b[38;5;28;01mNone\u001b[39;00m, color\u001b[38;5;241m=\u001b[39m(\u001b[38;5;241m0\u001b[39m, \u001b[38;5;241m0\u001b[39m, \u001b[38;5;241m255\u001b[39m))\n\u001b[0;32m      7\u001b[0m \u001b[38;5;66;03m# Display the image with the contour and the keypoints\u001b[39;00m\n\u001b[1;32m----> 8\u001b[0m \u001b[43mcv2\u001b[49m\u001b[38;5;241;43m.\u001b[39;49m\u001b[43mimshow\u001b[49m\u001b[43m(\u001b[49m\u001b[38;5;124;43m\"\u001b[39;49m\u001b[38;5;124;43mImage with Contour and Keypoints\u001b[39;49m\u001b[38;5;124;43m\"\u001b[39;49m\u001b[43m,\u001b[49m\u001b[43m \u001b[49m\u001b[43mimage_copy\u001b[49m\u001b[43m)\u001b[49m\n\u001b[0;32m      9\u001b[0m cv2\u001b[38;5;241m.\u001b[39mwaitKey(\u001b[38;5;241m0\u001b[39m)\n\u001b[0;32m     10\u001b[0m cv2\u001b[38;5;241m.\u001b[39mdestroyAllWindows()\n",
      "\u001b[1;31merror\u001b[0m: OpenCV(4.6.0) C:\\b\\abs_f8n1j3l9l0\\croot\\opencv-suite_1691622637237\\work\\modules\\highgui\\src\\window.cpp:1267: error: (-2:Unspecified error) The function is not implemented. Rebuild the library with Windows, GTK+ 2.x or Cocoa support. If you are on Ubuntu or Debian, install libgtk2.0-dev and pkg-config, then re-run cmake or configure script in function 'cvShowImage'\n"
     ]
    }
   ],
   "source": [
    "image_copy = train_img.copy()\n",
    "cv2.drawContours(image_copy, [max_contour], -1, (0, 255, 0), 3)\n",
    "\n",
    "# Draw the keypoints on the image\n",
    "image_copy = cv2.drawKeypoints(image_copy, queryKeypoints, None, color=(0, 0, 255))\n",
    "\n",
    "# Display the image with the contour and the keypoints\n",
    "cv2.imshow(\"Image with Contour and Keypoints\", image_copy)\n",
    "cv2.waitKey(0)\n",
    "cv2.destroyAllWindows()"
   ]
  },
  {
   "cell_type": "code",
   "execution_count": null,
   "metadata": {},
   "outputs": [],
   "source": []
  }
 ],
 "metadata": {
  "kernelspec": {
   "display_name": "deeplearning",
   "language": "python",
   "name": "python3"
  },
  "language_info": {
   "codemirror_mode": {
    "name": "ipython",
    "version": 3
   },
   "file_extension": ".py",
   "mimetype": "text/x-python",
   "name": "python",
   "nbconvert_exporter": "python",
   "pygments_lexer": "ipython3",
   "version": "3.11.5"
  }
 },
 "nbformat": 4,
 "nbformat_minor": 2
}
