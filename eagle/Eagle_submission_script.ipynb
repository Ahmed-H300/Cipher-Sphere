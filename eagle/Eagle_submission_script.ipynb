{
  "cells": [
    {
      "cell_type": "code",
      "execution_count": 1,
      "metadata": {
        "colab": {
          "base_uri": "https://localhost:8080/"
        },
        "id": "b6TcII6tWd85",
        "outputId": "39995931-569c-413a-e9c1-7f815b68cd6a"
      },
      "outputs": [
        {
          "name": "stdout",
          "output_type": "stream",
          "text": [
            "Mounted at /content/drive\n"
          ]
        }
      ],
      "source": [
        "from google.colab import drive\n",
        "drive.mount('/content/drive')"
      ]
    },
    {
      "cell_type": "code",
      "execution_count": 2,
      "metadata": {
        "id": "VZihkDLcbE6S"
      },
      "outputs": [],
      "source": [
        "import pandas as pd\n",
        "import numpy as np\n",
        "import random\n",
        "from sklearn.model_selection import train_test_split\n",
        "from sklearn.svm import SVC\n",
        "from sklearn.preprocessing import StandardScaler\n",
        "from sklearn.metrics import accuracy_score\n",
        "import time\n",
        "import joblib"
      ]
    },
    {
      "cell_type": "code",
      "execution_count": null,
      "metadata": {
        "id": "wK9287CvL79c"
      },
      "outputs": [],
      "source": [
        "import numpy as np\n",
        "from matplotlib.pyplot import imread\n",
        "import matplotlib.pyplot as plt\n",
        "\n",
        "\n",
        "class SteganographyException(Exception):\n",
        "    pass\n",
        "\n",
        "class LSBSteg():\n",
        "    def __init__(self, im):\n",
        "        self.image = im\n",
        "        self.height, self.width, self.nbchannels = im.shape\n",
        "        self.size = self.width * self.height\n",
        "\n",
        "        self.maskONEValues = [1,2,4,8,16,32,64,128]\n",
        "        #Mask used to put one ex:1->00000001, 2->00000010 .. associated with OR bitwise\n",
        "        self.maskONE = self.maskONEValues.pop(0) #Will be used to do bitwise operations\n",
        "\n",
        "        self.maskZEROValues = [254,253,251,247,239,223,191,127]\n",
        "        #Mak used to put zero ex:254->11111110, 253->11111101 .. associated with AND bitwise\n",
        "        self.maskZERO = self.maskZEROValues.pop(0)\n",
        "\n",
        "        self.curwidth = 0  # Current width position\n",
        "        self.curheight = 0 # Current height position\n",
        "        self.curchan = 0   # Current channel position\n",
        "\n",
        "    def put_binary_value(self, bits): #Put the bits in the image\n",
        "        for c in bits:\n",
        "            val = list(self.image[self.curheight,self.curwidth]) #Get the pixel value as a list\n",
        "            if int(c) == 1:\n",
        "                val[self.curchan] = int(val[self.curchan]) | self.maskONE #OR with maskONE\n",
        "            else:\n",
        "                val[self.curchan] = int(val[self.curchan]) & self.maskZERO #AND with maskZERO\n",
        "            self.image[self.curheight,self.curwidth] = tuple(val)\n",
        "            self.next_slot() #Move \"cursor\" to the next space\n",
        "\n",
        "    def next_slot(self):#Move to the next slot were information can be taken or put\n",
        "        if self.curchan == self.nbchannels-1: #Next Space is the following channel\n",
        "            self.curchan = 0\n",
        "            if self.curwidth == self.width-1: #Or the first channel of the next pixel of the same line\n",
        "                self.curwidth = 0\n",
        "                if self.curheight == self.height-1:#Or the first channel of the first pixel of the next line\n",
        "                    self.curheight = 0\n",
        "                    if self.maskONE == 128: #Mask 1000000, so the last mask\n",
        "                        raise SteganographyException(\"No available slot remaining (image filled)\")\n",
        "                    else: #Or instead of using the first bit start using the second and so on..\n",
        "                        self.maskONE = self.maskONEValues.pop(0)\n",
        "                        self.maskZERO = self.maskZEROValues.pop(0)\n",
        "                else:\n",
        "                    self.curheight +=1\n",
        "            else:\n",
        "                self.curwidth +=1\n",
        "        else:\n",
        "            self.curchan +=1\n",
        "\n",
        "    def next_slot2(self): # Hey, we thought this could optimize el time\n",
        "        self.curchan += 1  # Move to the next channel\n",
        "        if self.curchan == self.nbchannels:  # If all channels are exhausted\n",
        "            self.curchan = 0  # Reset channel to the first one\n",
        "            self.curwidth += 1  # Move to the next pixel on the same line\n",
        "            if self.curwidth == self.width:  # If all pixels in the row are exhausted\n",
        "                self.curwidth = 0  # Reset pixel position to the beginning of the row\n",
        "                self.curheight += 1  # Move to the next row\n",
        "                if self.curheight == self.height:  # If all rows are exhausted\n",
        "                    self.curheight = 0  # Reset row position to the beginning\n",
        "                    if self.maskONE == 128:  # If the last mask is reached\n",
        "                        raise SteganographyException(\"No available slot remaining (image filled)\")\n",
        "                    else:  # Use the next available mask\n",
        "                        self.maskONE = self.maskONEValues.pop(0)\n",
        "                        self.maskZERO = self.maskZEROValues.pop(0)\n",
        "\n",
        "    def read_bit(self): #Read a single bit int the image\n",
        "        val = self.image[self.curheight,self.curwidth][self.curchan]\n",
        "        # why & self.maskONE\n",
        "        # val = 0b1011100\n",
        "        # maskONE = 0b1000000\n",
        "        # val & maskONE = 0b1000000\n",
        "        val = int(val) & self.maskONE\n",
        "        self.next_slot()\n",
        "        if val > 0:\n",
        "            return \"1\"\n",
        "        else:\n",
        "            return \"0\"\n",
        "\n",
        "    def read_byte(self):\n",
        "        return self.read_bits(8)\n",
        "\n",
        "    def read_bits(self, nb): #Read the given number of bits\n",
        "        bits = \"\"\n",
        "        for i in range(nb):\n",
        "            bits += self.read_bit()\n",
        "        return bits\n",
        "\n",
        "    def byteValue(self, val):\n",
        "        return self.binary_value(val, 8)\n",
        "\n",
        "\n",
        "    # test case:\n",
        "    # # Expected binary value: '0110'\n",
        "    # Explanation: Binary representation of 6 with bitsize 4.\n",
        "    #binary_value(6, 4) == '0110'\n",
        "    ###\n",
        "    def binary_value(self, val, bitsize): #Return the binary value of an int as a byte\n",
        "        binval = bin(val)[2:] ## delete 0b\n",
        "        if len(binval) > bitsize:\n",
        "            raise SteganographyException(\"binary value larger than the expected size\")\n",
        "        while len(binval) < bitsize:\n",
        "            binval = \"0\"+binval\n",
        "        return binval\n",
        "\n",
        "    ## encode text by steps:\n",
        "    # 1. put len of text\n",
        "    # 2. put each char of text\n",
        "    def encode_text(self, txt):\n",
        "        l = len(txt)\n",
        "        binl = self.binary_value(l, 16) #Length coded on 2 bytes so the text size can be up to 65536 bytes long\n",
        "        self.put_binary_value(binl) #Put text length coded on 4 bytes\n",
        "        for char in txt: #And put all the chars\n",
        "            c = ord(char)\n",
        "            self.put_binary_value(self.byteValue(c))\n",
        "        return self.image\n",
        "\n",
        "    # 1. read len of text\n",
        "    # 2. read each char of text\n",
        "    # 3. return the text\n",
        "    def decode_text(self):\n",
        "        ls = self.read_bits(16) #Read the text size in bytes\n",
        "        l = int(ls,2)\n",
        "        i = 0\n",
        "        unhideTxt = \"\"\n",
        "        while i < l: #Read all bytes of the text\n",
        "            tmp = self.read_byte() #So one byte\n",
        "            i += 1\n",
        "            unhideTxt += chr(int(tmp,2)) #Every chars concatenated to str\n",
        "        return unhideTxt\n",
        "\n",
        "    def encode_image(self, imtohide):\n",
        "        w = imtohide.width\n",
        "        h = imtohide.height\n",
        "        if self.width*self.height*self.nbchannels < w*h*imtohide.channels:\n",
        "            raise SteganographyException(\"Carrier image not big enough to hold all the datas to steganography\")\n",
        "        binw = self.binary_value(w, 16) #Width coded on to byte so width up to 65536\n",
        "        binh = self.binary_value(h, 16)\n",
        "        self.put_binary_value(binw) #Put width\n",
        "        self.put_binary_value(binh) #Put height\n",
        "        for h in range(imtohide.height): #Iterate the hole image to put every pixel values\n",
        "            for w in range(imtohide.width):\n",
        "                for chan in range(imtohide.channels):\n",
        "                    val = imtohide[h,w][chan]\n",
        "                    self.put_binary_value(self.byteValue(int(val)))\n",
        "        return self.image\n",
        "\n",
        "\n",
        "    def decode_image(self):\n",
        "        width = int(self.read_bits(16),2) #Read 16bits and convert it in int\n",
        "        height = int(self.read_bits(16),2)\n",
        "        unhideimg = np.zeros((width,height, 3), np.uint8) #Create an image in which we will put all the pixels read\n",
        "        for h in range(height):\n",
        "            for w in range(width):\n",
        "                for chan in range(unhideimg.channels):\n",
        "                    val = list(unhideimg[h,w])\n",
        "                    val[chan] = int(self.read_byte(),2) #Read the value\n",
        "                    unhideimg[h,w] = tuple(val)\n",
        "        return unhideimg\n",
        "\n",
        "    def encode_binary(self, data):\n",
        "        l = len(data)\n",
        "        if self.width*self.height*self.nbchannels < l+64:\n",
        "            raise SteganographyException(\"Carrier image not big enough to hold all the datas to steganography\")\n",
        "        self.put_binary_value(self.binary_value(l, 64))\n",
        "        for byte in data:\n",
        "            byte = byte if isinstance(byte, int) else ord(byte) # Compat py2/py3\n",
        "            self.put_binary_value(self.byteValue(byte))\n",
        "        return self.image\n",
        "\n",
        "    def decode_binary(self):\n",
        "        l = int(self.read_bits(64), 2)\n",
        "        output = b\"\"\n",
        "        for i in range(l):\n",
        "            output += chr(int(self.read_byte(),2)).encode(\"utf-8\")\n",
        "        return output\n",
        "\n",
        "def encode(image: np.ndarray, message: str) -> np.array:\n",
        "    # steg = LSBSteg(cv2.imread(filepath))\n",
        "    steg = LSBSteg(image)\n",
        "    img_encoded = steg.encode_text(message)\n",
        "    return img_encoded\n",
        "\n",
        "def decode(encoded: np.array) -> str:\n",
        "    steg = LSBSteg(encoded)\n",
        "    return steg.decode_text()"
      ]
    },
    {
      "cell_type": "code",
      "execution_count": null,
      "metadata": {
        "id": "dTZIlXqsCBrm"
      },
      "outputs": [],
      "source": [
        "import tensorflow as tf\n",
        "import warnings\n",
        "# Disabling Future Warnings0\n",
        "warnings.filterwarnings(action='ignore', category=FutureWarning)\n",
        "from sklearn.model_selection import train_test_split\n",
        "\n",
        "import numpy as np\n",
        "\n",
        "import matplotlib.pyplot as plt"
      ]
    },
    {
      "cell_type": "code",
      "execution_count": null,
      "metadata": {
        "id": "kzthnAZeCfpu"
      },
      "outputs": [],
      "source": [
        "model = tf.keras.models.load_model('/content/drive/MyDrive/Hacktrick/models/30_epochs.h5')"
      ]
    },
    {
      "cell_type": "code",
      "execution_count": null,
      "metadata": {
        "id": "_KldESSBRcBq"
      },
      "outputs": [],
      "source": [
        "fake = np.load('/content/drive/MyDrive/Hacktrick/Footprints Datasets/fake.npz')\n",
        "real = np.load('/content/drive/MyDrive/Hacktrick/Footprints Datasets/real.npz')\n",
        "specto = np.concatenate((fake['x'], real['x']), axis=0).astype(np.float64)  # Change dtype to float32\n",
        "labels = np.concatenate(([0 for i in range(750)], [1 for i in range(750)]), axis=0)\n",
        "\n",
        "clip_min = -1e10\n",
        "clip_max = 1e10\n",
        "specto = np.clip(specto, clip_min, clip_max)\n",
        "\n",
        "mean = np.mean(specto, axis=(0, 1))  # Compute mean across samples and time steps\n",
        "std = np.std(specto, axis=(0, 1))    # Compute standard deviation across samples and time steps\n",
        "\n",
        "# Step 2: Normalize each feature\n",
        "\n",
        "combined = list(zip(specto, labels))\n",
        "# Shuffle the combined list\n",
        "random.shuffle(combined)\n",
        "# Unpack the shuffled list back into separate lists\n",
        "shuffled_specto, shuffled_labels = zip(*combined)"
      ]
    },
    {
      "cell_type": "code",
      "execution_count": null,
      "metadata": {
        "id": "oqcNapstNvy3"
      },
      "outputs": [],
      "source": [
        "import requests\n",
        "import numpy as np\n",
        "\n",
        "api_base_url = \"http://3.70.97.142:5000\"\n",
        "# api_base_url = \"http://localhost:3005\"\n",
        "team_id=\"Lu2xdzj\"\n",
        "# team_id = \"xxx\""
      ]
    },
    {
      "cell_type": "code",
      "execution_count": null,
      "metadata": {
        "id": "nigNUd5sOEbX"
      },
      "outputs": [],
      "source": [
        "def init_eagle(team_id):\n",
        "    '''\n",
        "    In this fucntion you need to hit to the endpoint to start the game as an eagle with your team id.\n",
        "    If a sucessful response is returned, you will recive back the first footprints.\n",
        "    '''\n",
        "    payload_sent = {\n",
        "        'teamId': team_id\n",
        "    }\n",
        "    response = requests.post(api_base_url+\"/eagle/start\", json=payload_sent)\n",
        "    print(response)\n",
        "    if response.status_code == 200 or response.status_code == 201:\n",
        "        print(\"Game started successfully\")\n",
        "        data = response.json()\n",
        "        footprints = data['footprint']\n",
        "        return footprints\n",
        "    else:\n",
        "        print(\"error: \", response.status_code)\n",
        "    return 0"
      ]
    },
    {
      "cell_type": "code",
      "execution_count": null,
      "metadata": {
        "id": "V1nxAOz8f1Wl"
      },
      "outputs": [],
      "source": [
        "idx1 = 98\n",
        "idx2 = 34\n",
        "idx3 = 198"
      ]
    },
    {
      "cell_type": "code",
      "execution_count": null,
      "metadata": {
        "id": "DSaDHm-RnnZF"
      },
      "outputs": [],
      "source": [
        "image1 = real['x'][idx1]\n",
        "image2 = real['x'][idx2]\n",
        "image3 = fake['x'][idx3]\n",
        "\n",
        "label1 = 0\n",
        "label2 = 1\n",
        "label3 = 0"
      ]
    },
    {
      "cell_type": "code",
      "execution_count": null,
      "metadata": {
        "id": "l7IpsMwQEi0j"
      },
      "outputs": [],
      "source": [
        "# footprints = {\n",
        "#     '1' : shuffled_specto[idx1],\n",
        "#     '2' : shuffled_specto[idx2],\n",
        "#     '3' : shuffled_specto[idx3]\n",
        "# }\n",
        "footprints = {\n",
        "    '1' : image1,\n",
        "    '2' : image2,\n",
        "    '3' : image3\n",
        "}"
      ]
    },
    {
      "cell_type": "code",
      "execution_count": null,
      "metadata": {
        "id": "MSiwD8YMCcxl"
      },
      "outputs": [],
      "source": [
        "def eagle_solve(spect):\n",
        "  spect = np.expand_dims(spect, axis=0)\n",
        "  prediction = model.predict(spect)\n",
        "  return prediction[0]"
      ]
    },
    {
      "cell_type": "code",
      "execution_count": null,
      "metadata": {
        "id": "mqgIINaRR108"
      },
      "outputs": [],
      "source": [
        "def select_channel(footprint):\n",
        "    '''\n",
        "    According to the footprint you recieved (one footprint per channel)\n",
        "    you need to decide if you want to listen to any of the 3 channels or just skip this message.\n",
        "    Your goal is to try to catch all the real messages and skip the fake and the empty ones.\n",
        "    Refer to the documentation of the Footprints to know more what the footprints represent to guide you in your approach.\n",
        "    '''\n",
        "\n",
        "    '''\n",
        "    foorprint = {\n",
        "    '1': spect,\n",
        "    }\n",
        "    for i in footpring:\n",
        "        call model (footprint)\n",
        "        if return == 1 return channel id\n",
        "\n",
        "    return 0\n",
        "    '''\n",
        "    predictions = {}\n",
        "    for channel, spect in footprint.items():\n",
        "        spect = np.array(spect).astype(np.float64)\n",
        "\n",
        "        spect = np.clip(spect, clip_min, clip_max)\n",
        "\n",
        "        mean2 = np.mean(spect, axis=(0, 1))\n",
        "\n",
        "        if abs(mean2) < 0.5:\n",
        "          predictions[channel] = 0\n",
        "          continue\n",
        "\n",
        "        normalized_spect = (spect - mean) / std\n",
        "\n",
        "        spect = np.expand_dims(normalized_spect, axis=0)\n",
        "        prediction = model.predict(spect)[0]\n",
        "\n",
        "        if prediction > 0.5:\n",
        "            return int(channel)\n",
        "\n",
        "\n",
        "    return 0"
      ]
    },
    {
      "cell_type": "code",
      "execution_count": null,
      "metadata": {
        "colab": {
          "base_uri": "https://localhost:8080/"
        },
        "id": "ztbxWjCIEvFd",
        "outputId": "06708da3-5ec4-4aaa-9f21-f2251ddad8bf"
      },
      "outputs": [
        {
          "name": "stdout",
          "output_type": "stream",
          "text": [
            "1/1 [==============================] - 0s 110ms/step\n",
            "1 <class 'int'>\n",
            "ddddddddddddddddddddddddddddd\n",
            "0\n",
            "1\n",
            "0\n"
          ]
        }
      ],
      "source": [
        "# c = select_channel(footprints)\n",
        "# print(c)\n",
        "# print('ddddddddddddddddddddddddddddd')\n",
        "# print(shuffled_labels[idx1])\n",
        "# print(shuffled_labels[idx2])\n",
        "# print(shuffled_labels[idx3])\n",
        "\n",
        "c = select_channel(footprints)\n",
        "print(c, type(c))\n",
        "print('ddddddddddddddddddddddddddddd')\n",
        "print(label1)\n",
        "print(label2)\n",
        "print(label3)"
      ]
    },
    {
      "cell_type": "code",
      "execution_count": null,
      "metadata": {
        "id": "XLE798x5R3b0"
      },
      "outputs": [],
      "source": [
        "def skip_msg(team_id):\n",
        "    '''\n",
        "    If you decide to NOT listen to ANY of the 3 channels then you need to hit the end point skipping the message.\n",
        "    If sucessful request to the end point , you will expect to have back new footprints IF ANY.\n",
        "    '''\n",
        "    payload_sent = {\n",
        "        'teamId': team_id\n",
        "    }\n",
        "    response = requests.post(api_base_url+\"/eagle/skip-message\", json=payload_sent)\n",
        "    print(response)\n",
        "    if response.status_code == 200 or response.status_code == 201:\n",
        "        print(\"Message Skipped\")\n",
        "        if response.text == \"End of message reached\":\n",
        "            print(response.text)\n",
        "\n",
        "        data = response.json()\n",
        "        footprints = data['nextFootprint']\n",
        "        return footprints\n",
        "    else:\n",
        "        if response.text == \"End of message reached\":\n",
        "          print(response.text, \"status: \", response.status_code)\n",
        "        else:\n",
        "          print(\"error: \", response.status_code)\n",
        "    return 0"
      ]
    },
    {
      "cell_type": "code",
      "execution_count": null,
      "metadata": {
        "id": "8j3x0gh0R5xV"
      },
      "outputs": [],
      "source": [
        "def request_msg(team_id, channel_id):\n",
        "    '''\n",
        "    If you decide to listen to any of the 3 channels then you need to hit the end point of selecting a channel to hear on (1,2 or 3)\n",
        "    '''\n",
        "    payload_sent = {\n",
        "        'teamId': team_id,\n",
        "        'channelId': channel_id\n",
        "    }\n",
        "    response = requests.post(api_base_url+\"/eagle/request-message\", json=payload_sent)\n",
        "    print(response)\n",
        "    if response.status_code == 200 or response.status_code == 201:\n",
        "        print(\"Message Request\")\n",
        "        data = response.json()\n",
        "        encodedMsg = data['encodedMsg']\n",
        "        return encodedMsg\n",
        "    else:\n",
        "        print(\"error: \", response.status_code)\n",
        "    return 0"
      ]
    },
    {
      "cell_type": "code",
      "execution_count": null,
      "metadata": {
        "id": "4T9Kevh_R7k_"
      },
      "outputs": [],
      "source": [
        "def submit_msg(team_id, decoded_msg):\n",
        "    '''\n",
        "    In this function you are expected to:\n",
        "        1. Decode the message you requested previously\n",
        "        2. call the api end point to send your decoded message\n",
        "    If sucessful request to the end point , you will expect to have back new footprints IF ANY.\n",
        "    '''\n",
        "    payload_sent = {\n",
        "        'teamId': team_id,\n",
        "        'decodedMsg': decoded_msg\n",
        "    }\n",
        "    response = requests.post(api_base_url+\"/eagle/submit-message\", json=payload_sent)\n",
        "    print(response)\n",
        "    if response.status_code == 200 or response.status_code == 201:\n",
        "        print(\"Message Submit\")\n",
        "        if response.text == \"End of message reached\":\n",
        "          print(response.text)\n",
        "\n",
        "        data = response.json()\n",
        "        footprints = data['nextFootprint']\n",
        "        return footprints\n",
        "    else:\n",
        "        if response.text == \"End of message reached\":\n",
        "          print(response.text, \"status: \", response.status_code)\n",
        "        else:\n",
        "          print(\"error: \", response.status_code)\n",
        "    return 0"
      ]
    },
    {
      "cell_type": "code",
      "execution_count": null,
      "metadata": {
        "id": "3rEaG5HiR9HM"
      },
      "outputs": [],
      "source": [
        "def end_eagle(team_id):\n",
        "    '''\n",
        "    Use this function to call the api end point of ending the eagle  game.\n",
        "    Note that:\n",
        "    1. Not calling this fucntion will cost you in the scoring function\n",
        "    '''\n",
        "    payload_sent = {\n",
        "        'teamId': team_id,\n",
        "    }\n",
        "    response = requests.post(api_base_url+\"/eagle/end-game\", json=payload_sent)\n",
        "    print(response)\n",
        "    if response.status_code == 200 or response.status_code == 201:\n",
        "        print(\"Game Ends \", response.text)\n",
        "        return response\n",
        "    else:\n",
        "        print(\"error: \", response.status_code)\n",
        "    return 0"
      ]
    },
    {
      "cell_type": "code",
      "execution_count": null,
      "metadata": {
        "colab": {
          "base_uri": "https://localhost:8080/"
        },
        "id": "kD_lp401HZr_",
        "outputId": "753b9e3a-1b0a-4573-b3a1-6af7f8a2b85b"
      },
      "outputs": [
        {
          "name": "stdout",
          "output_type": "stream",
          "text": [
            "<Response [201]>\n",
            "Game started successfully\n",
            "1/1 [==============================] - 2s 2s/step\n",
            "{'1': array([8.001587e-05], dtype=float32), '2': 0, '3': 0}\n",
            "0\n",
            "<Response [200]>\n",
            "Message Skipped\n",
            "1/1 [==============================] - 0s 32ms/step\n",
            "1/1 [==============================] - 0s 29ms/step\n",
            "{'1': array([0.8994018], dtype=float32), '2': 0, '3': array([0.00027775], dtype=float32)}\n",
            "1\n",
            "<Response [200]>\n",
            "Message Request\n",
            "Cryptograp\n",
            "<Response [200]>\n",
            "Message Submit\n",
            "1/1 [==============================] - 0s 32ms/step\n",
            "1/1 [==============================] - 0s 28ms/step\n",
            "1/1 [==============================] - 0s 28ms/step\n",
            "{'1': array([0.95111793], dtype=float32), '2': array([0.00027775], dtype=float32), '3': array([3.2072556e-05], dtype=float32)}\n",
            "1\n",
            "<Response [200]>\n",
            "Message Request\n",
            "hy is cool\n",
            "<Response [400]>\n",
            "End of message reached status:  400\n",
            "<Response [200]>\n",
            "Game Ends  Game ended successfully with a score of 75.07307802008367. New Highscore reached!\n"
          ]
        }
      ],
      "source": [
        "footprints = init_eagle(team_id)\n",
        "while 1:\n",
        "  if footprints == 0:\n",
        "      end_eagle(team_id)\n",
        "      break\n",
        "\n",
        "  channel_id = select_channel(footprints)\n",
        "  print(channel_id)\n",
        "  if channel_id == 0:\n",
        "      footprints = skip_msg(team_id)\n",
        "      continue\n",
        "  else:\n",
        "      image_msg = request_msg(team_id, channel_id)\n",
        "      image_array = np.array(image_msg,dtype=np.uint8)\n",
        "      text = decode(image_array)\n",
        "      print(text)\n",
        "      footprints = submit_msg(team_id, text)\n",
        "      continue"
      ]
    },
    {
      "cell_type": "code",
      "execution_count": null,
      "metadata": {
        "colab": {
          "base_uri": "https://localhost:8080/"
        },
        "id": "lg0G2z0BTbn-",
        "outputId": "e99dee37-c9f5-464a-babe-61fecc7e6afd"
      },
      "outputs": [
        {
          "name": "stdout",
          "output_type": "stream",
          "text": [
            "[[[12, 10, 32], [14, 14, 36], [12, 12, 32], [12, 16, 36], [21, 26, 49], [22, 32, 57], [27, 36, 67], [34, 44, 80], [50, 63, 107], [49, 59, 104], [54, 63, 108], [42, 47, 84], [34, 40, 70], [36, 42, 61], [23, 24, 37], [16, 20, 31], [20, 23, 41], [19, 24, 44], [19, 25, 44], [20, 25, 44]], [[10, 8, 30], [12, 14, 35], [13, 14, 34], [10, 17, 35], [16, 25, 43], [18, 31, 53], [29, 37, 68], [41, 51, 86], [45, 57, 99], [43, 52, 99], [51, 60, 103], [41, 48, 84], [29, 34, 63], [23, 28, 48], [17, 21, 32], [26, 30, 39], [18, 24, 40], [18, 23, 43], [19, 24, 44], [20, 25, 45]], [[10, 9, 27], [13, 14, 32], [14, 15, 33], [11, 17, 33], [16, 23, 41], [18, 29, 49], [30, 39, 68], [46, 56, 92], [57, 69, 111], [49, 60, 105], [51, 60, 103], [40, 48, 85], [26, 33, 61], [16, 23, 42], [11, 20, 29], [25, 32, 40], [19, 25, 41], [19, 24, 43], [20, 25, 44], [21, 26, 45]], [[14, 13, 29], [16, 15, 31], [13, 15, 30], [11, 17, 31], [16, 23, 39], [20, 28, 49], [32, 41, 70], [49, 59, 94], [74, 86, 126], [59, 70, 115], [45, 57, 99], [35, 45, 81], [27, 36, 65], [20, 31, 49], [17, 27, 37], [18, 28, 37], [19, 26, 42], [21, 26, 45], [22, 27, 46], [22, 27, 46]], [[18, 16, 30], [16, 15, 29], [10, 12, 25], [12, 16, 28], [17, 23, 39], [20, 28, 47], [29, 39, 66], [46, 56, 91], [72, 84, 124], [62, 75, 119], [43, 56, 100], [31, 43, 81], [26, 40, 69], [27, 39, 61], [25, 39, 52], [18, 31, 40], [20, 29, 44], [21, 28, 44], [22, 29, 45], [22, 29, 45]], [[17, 15, 29], [14, 12, 26], [10, 9, 23], [12, 14, 27], [16, 22, 38], [18, 25, 44], [25, 35, 62], [42, 52, 87], [67, 79, 121], [72, 85, 130], [60, 73, 118], [45, 58, 100], [32, 47, 80], [25, 41, 66], [27, 44, 60], [21, 37, 50], [22, 31, 46], [23, 30, 46], [24, 31, 47], [25, 32, 48]], [[13, 10, 27], [13, 11, 25], [12, 11, 25], [15, 17, 30], [19, 22, 39], [17, 22, 44], [26, 33, 62], [44, 52, 89], [67, 78, 123], [78, 90, 138], [74, 86, 134], [67, 82, 125], [47, 63, 99], [27, 44, 72], [28, 46, 66], [24, 41, 57], [25, 37, 53], [28, 35, 53], [29, 36, 54], [30, 37, 55]], [[12, 7, 27], [14, 11, 28], [17, 14, 31], [21, 20, 36], [21, 22, 42], [19, 21, 46], [28, 33, 65], [49, 54, 94], [65, 71, 119], [74, 84, 135], [73, 85, 137], [78, 92, 139], [61, 79, 119], [33, 52, 84], [31, 51, 76], [28, 46, 66], [30, 41, 59], [34, 41, 59], [34, 41, 59], [35, 42, 60]], [[17, 9, 32], [17, 12, 34], [19, 14, 36], [21, 18, 39], [24, 22, 46], [22, 22, 50], [33, 33, 69], [51, 54, 97], [74, 77, 128], [80, 85, 141], [99, 108, 165], [104, 116, 168], [78, 92, 137], [51, 69, 107], [39, 60, 91], [34, 52, 76], [36, 47, 67], [38, 45, 64], [41, 48, 67], [41, 48, 67]], [[25, 17, 41], [24, 16, 40], [22, 14, 37], [22, 17, 40], [26, 22, 47], [26, 23, 54], [35, 33, 72], [53, 51, 98], [76, 76, 130], [80, 82, 139], [102, 107, 165], [128, 137, 192], [105, 119, 168], [68, 86, 126], [40, 60, 93], [42, 59, 85], [43, 54, 76], [45, 52, 71], [48, 55, 74], [50, 57, 76]], [[28, 18, 43], [25, 15, 40], [21, 11, 35], [23, 15, 39], [28, 19, 46], [29, 22, 53], [38, 32, 70], [56, 50, 96], [81, 76, 130], [86, 85, 143], [96, 98, 157], [120, 127, 182], [110, 122, 172], [85, 100, 141], [54, 73, 106], [57, 74, 100], [51, 62, 82], [50, 59, 76], [55, 64, 81], [59, 68, 85]], [[31, 21, 46], [31, 21, 45], [29, 19, 43], [32, 22, 46], [37, 27, 52], [39, 28, 58], [49, 39, 76], [66, 57, 102], [86, 77, 130], [101, 96, 154], [103, 102, 160], [95, 98, 153], [105, 113, 160], [99, 113, 152], [80, 96, 129], [64, 80, 105], [66, 77, 95], [62, 71, 86], [66, 75, 90], [73, 82, 97]], [[35, 23, 47], [37, 25, 47], [36, 24, 44], [39, 27, 47], [41, 29, 51], [40, 27, 55], [49, 35, 70], [66, 53, 96], [88, 76, 126], [112, 103, 158], [122, 119, 174], [96, 98, 149], [121, 128, 172], [124, 134, 170], [110, 125, 154], [77, 92, 113], [80, 92, 106], [71, 81, 90], [72, 82, 91], [81, 91, 100]], [[44, 32, 52], [45, 33, 53], [44, 31, 49], [46, 33, 51], [48, 35, 55], [45, 31, 56], [53, 36, 68], [68, 52, 91], [89, 76, 122], [109, 99, 149], [127, 120, 172], [110, 108, 157], [134, 137, 178], [137, 146, 179], [130, 144, 170], [99, 115, 131], [70, 83, 91], [58, 69, 73], [57, 68, 72], [67, 78, 82]], [[53, 40, 58], [50, 37, 54], [47, 33, 48], [52, 38, 53], [61, 47, 64], [63, 48, 69], [71, 52, 80], [83, 66, 102], [97, 82, 125], [115, 103, 149], [125, 117, 166], [120, 117, 162], [117, 119, 157], [128, 135, 164], [115, 127, 149], [88, 102, 115], [46, 60, 63], [32, 44, 42], [33, 45, 43], [48, 60, 58]], [[36, 25, 39], [30, 19, 33], [25, 15, 26], [36, 24, 36], [53, 41, 53], [61, 48, 65], [69, 56, 76], [81, 67, 93], [104, 90, 123], [131, 121, 156], [134, 126, 163], [132, 128, 161], [98, 99, 127], [113, 118, 140], [82, 89, 107], [46, 56, 65], [35, 45, 46], [20, 31, 27], [25, 34, 31], [43, 54, 50]], [[12, 9, 18], [1, 0, 7], [2, 0, 6], [15, 10, 17], [18, 13, 20], [19, 13, 23], [41, 35, 47], [72, 66, 80], [58, 54, 69], [96, 92, 107], [122, 119, 136], [88, 86, 100], [41, 40, 54], [20, 20, 32], [6, 9, 18], [6, 9, 14], [14, 18, 19], [14, 19, 15], [17, 19, 16], [15, 20, 16]], [[0, 0, 5], [0, 0, 5], [0, 0, 5], [0, 0, 5], [0, 0, 5], [0, 0, 5], [5, 4, 10], [15, 14, 20], [0, 0, 5], [2, 1, 7], [14, 13, 19], [8, 7, 13], [5, 4, 10], [7, 6, 12], [0, 0, 5], [0, 0, 4], [0, 0, 0], [0, 0, 0], [0, 0, 0], [0, 0, 0]], [[0, 0, 4], [4, 3, 8], [4, 3, 8], [2, 1, 6], [3, 2, 7], [5, 4, 9], [1, 0, 5], [0, 0, 4], [7, 6, 11], [0, 0, 4], [0, 0, 4], [1, 0, 5], [5, 4, 9], [7, 6, 11], [1, 0, 5], [6, 6, 8], [0, 0, 0], [0, 0, 0], [0, 0, 0], [1, 1, 0]], [[0, 0, 4], [3, 2, 7], [2, 1, 6], [0, 0, 4], [2, 1, 6], [7, 6, 11], [6, 5, 10], [0, 0, 4], [2, 1, 6], [0, 0, 4], [2, 1, 6], [1, 0, 5], [0, 0, 4], [0, 0, 4], [0, 0, 4], [1, 1, 3], [2, 2, 2], [2, 2, 0], [2, 2, 0], [2, 2, 0]]]\n"
          ]
        }
      ],
      "source": [
        "print(image_msg)"
      ]
    },
    {
      "cell_type": "code",
      "execution_count": null,
      "metadata": {
        "colab": {
          "base_uri": "https://localhost:8080/"
        },
        "id": "vow2_QlHPC3J",
        "outputId": "078c053c-a0df-4e5e-831f-11f3e39894dc"
      },
      "outputs": [
        {
          "name": "stdout",
          "output_type": "stream",
          "text": [
            "1 Lu2xdzj\n"
          ]
        }
      ],
      "source": [
        "print(channel_id, team_id)"
      ]
    },
    {
      "cell_type": "code",
      "execution_count": null,
      "metadata": {
        "colab": {
          "base_uri": "https://localhost:8080/",
          "height": 35
        },
        "id": "M1GgGwmU9upO",
        "outputId": "8b1f9e5b-7f50-442f-91e2-27b94144446b"
      },
      "outputs": [],
      "source": [
        "import shutil\n",
        "shutil.copy('/content/drive/MyDrive/Hacktrick/models/30epochs.h5', '/content/')"
      ]
    },
    {
      "cell_type": "code",
      "execution_count": null,
      "metadata": {
        "colab": {
          "base_uri": "https://localhost:8080/",
          "height": 35
        },
        "id": "AfRV8FJNI-_O",
        "outputId": "5407ab1b-c452-4516-ce19-30b184d30e2a"
      },
      "outputs": [],
      "source": [
        "import shutil\n",
        "shutil.copy('/content/drive/MyDrive/Hacktrick/Footprints Datasets/real.npz', '/content/')\n",
        "shutil.copy('/content/drive/MyDrive/Hacktrick/Footprints Datasets/fake.npz', '/content/')"
      ]
    },
    {
      "cell_type": "code",
      "execution_count": 15,
      "metadata": {
        "colab": {
          "base_uri": "https://localhost:8080/"
        },
        "id": "ZSHLG8gN-MvD",
        "outputId": "c7ed3c77-bb89-4993-8676-601e28232885"
      },
      "outputs": [
        {
          "name": "stdout",
          "output_type": "stream",
          "text": [
            "2024-03-05 21:58:52.932740: E external/local_xla/xla/stream_executor/cuda/cuda_dnn.cc:9261] Unable to register cuDNN factory: Attempting to register factory for plugin cuDNN when one has already been registered\n",
            "2024-03-05 21:58:52.932795: E external/local_xla/xla/stream_executor/cuda/cuda_fft.cc:607] Unable to register cuFFT factory: Attempting to register factory for plugin cuFFT when one has already been registered\n",
            "2024-03-05 21:58:52.934657: E external/local_xla/xla/stream_executor/cuda/cuda_blas.cc:1515] Unable to register cuBLAS factory: Attempting to register factory for plugin cuBLAS when one has already been registered\n",
            "2024-03-05 21:58:52.945598: I tensorflow/core/platform/cpu_feature_guard.cc:182] This TensorFlow binary is optimized to use available CPU instructions in performance-critical operations.\n",
            "To enable the following instructions: AVX2 AVX512F FMA, in other operations, rebuild TensorFlow with the appropriate compiler flags.\n",
            "2024-03-05 21:58:54.542478: W tensorflow/compiler/tf2tensorrt/utils/py_utils.cc:38] TF-TRT Warning: Could not find TensorRT\n",
            "2024-03-05 21:58:55.830116: I external/local_xla/xla/stream_executor/cuda/cuda_executor.cc:901] successful NUMA node read from SysFS had negative value (-1), but there must be at least one NUMA node, so returning NUMA node zero. See more at https://github.com/torvalds/linux/blob/v6.0/Documentation/ABI/testing/sysfs-bus-pci#L344-L355\n",
            "2024-03-05 21:58:55.879128: I external/local_xla/xla/stream_executor/cuda/cuda_executor.cc:901] successful NUMA node read from SysFS had negative value (-1), but there must be at least one NUMA node, so returning NUMA node zero. See more at https://github.com/torvalds/linux/blob/v6.0/Documentation/ABI/testing/sysfs-bus-pci#L344-L355\n",
            "2024-03-05 21:58:55.879461: I external/local_xla/xla/stream_executor/cuda/cuda_executor.cc:901] successful NUMA node read from SysFS had negative value (-1), but there must be at least one NUMA node, so returning NUMA node zero. See more at https://github.com/torvalds/linux/blob/v6.0/Documentation/ABI/testing/sysfs-bus-pci#L344-L355\n",
            "2024-03-05 21:58:55.880187: I external/local_xla/xla/stream_executor/cuda/cuda_executor.cc:901] successful NUMA node read from SysFS had negative value (-1), but there must be at least one NUMA node, so returning NUMA node zero. See more at https://github.com/torvalds/linux/blob/v6.0/Documentation/ABI/testing/sysfs-bus-pci#L344-L355\n",
            "2024-03-05 21:58:55.880476: I external/local_xla/xla/stream_executor/cuda/cuda_executor.cc:901] successful NUMA node read from SysFS had negative value (-1), but there must be at least one NUMA node, so returning NUMA node zero. See more at https://github.com/torvalds/linux/blob/v6.0/Documentation/ABI/testing/sysfs-bus-pci#L344-L355\n",
            "2024-03-05 21:58:55.880687: I external/local_xla/xla/stream_executor/cuda/cuda_executor.cc:901] successful NUMA node read from SysFS had negative value (-1), but there must be at least one NUMA node, so returning NUMA node zero. See more at https://github.com/torvalds/linux/blob/v6.0/Documentation/ABI/testing/sysfs-bus-pci#L344-L355\n",
            "2024-03-05 21:58:55.975369: I external/local_xla/xla/stream_executor/cuda/cuda_executor.cc:901] successful NUMA node read from SysFS had negative value (-1), but there must be at least one NUMA node, so returning NUMA node zero. See more at https://github.com/torvalds/linux/blob/v6.0/Documentation/ABI/testing/sysfs-bus-pci#L344-L355\n",
            "2024-03-05 21:58:55.975685: I external/local_xla/xla/stream_executor/cuda/cuda_executor.cc:901] successful NUMA node read from SysFS had negative value (-1), but there must be at least one NUMA node, so returning NUMA node zero. See more at https://github.com/torvalds/linux/blob/v6.0/Documentation/ABI/testing/sysfs-bus-pci#L344-L355\n",
            "2024-03-05 21:58:55.975819: W tensorflow/core/common_runtime/gpu/gpu_bfc_allocator.cc:47] Overriding orig_value setting because the TF_FORCE_GPU_ALLOW_GROWTH environment variable is set. Original config value was 0.\n",
            "2024-03-05 21:58:55.975926: I external/local_xla/xla/stream_executor/cuda/cuda_executor.cc:901] successful NUMA node read from SysFS had negative value (-1), but there must be at least one NUMA node, so returning NUMA node zero. See more at https://github.com/torvalds/linux/blob/v6.0/Documentation/ABI/testing/sysfs-bus-pci#L344-L355\n",
            "2024-03-05 21:58:55.976065: I tensorflow/core/common_runtime/gpu/gpu_device.cc:1929] Created device /job:localhost/replica:0/task:0/device:GPU:0 with 13949 MB memory:  -> device: 0, name: Tesla T4, pci bus id: 0000:00:04.0, compute capability: 7.5\n",
            "error:  400\n",
            "error:  400\n",
            "Elapsed time: 0.63 seconds\n"
          ]
        }
      ],
      "source": [
        "!python main.py"
      ]
    },
    {
      "cell_type": "code",
      "execution_count": null,
      "metadata": {
        "id": "HZgOZJbGMWxG"
      },
      "outputs": [],
      "source": []
    },
    {
      "cell_type": "code",
      "execution_count": null,
      "metadata": {
        "id": "XfX5Wr0Y_T8N"
      },
      "outputs": [],
      "source": [
        "array_of_imgs = np.load('/content/hanyy.npy')"
      ]
    },
    {
      "cell_type": "code",
      "execution_count": null,
      "metadata": {
        "id": "-FfI4Z-LJ-Wj"
      },
      "outputs": [],
      "source": [
        "from PIL import Image\n",
        "\n",
        "for i, img_array in enumerate(array_of_imgs):\n",
        "    img = Image.fromarray(img_array)\n",
        "    img.save(f\"/content/image_{i}.png\")"
      ]
    },
    {
      "cell_type": "code",
      "execution_count": null,
      "metadata": {
        "id": "gmqpd2UFLB7Z"
      },
      "outputs": [],
      "source": []
    }
  ],
  "metadata": {
    "accelerator": "GPU",
    "colab": {
      "gpuType": "T4",
      "provenance": []
    },
    "kernelspec": {
      "display_name": "Python 3",
      "name": "python3"
    },
    "language_info": {
      "name": "python"
    }
  },
  "nbformat": 4,
  "nbformat_minor": 0
}
