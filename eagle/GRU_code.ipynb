{
  "cells": [
    {
      "cell_type": "code",
      "execution_count": null,
      "metadata": {
        "id": "HyTkedK5AAwU"
      },
      "outputs": [],
      "source": [
        "import tensorflow as tf\n",
        "import warnings\n",
        "# Disabling Future Warnings0\n",
        "warnings.filterwarnings(action='ignore', category=FutureWarning)\n",
        "from sklearn.model_selection import train_test_split\n",
        "\n",
        "from keras.callbacks import ModelCheckpoint\n",
        "from keras.models import Model, Sequential\n",
        "from keras.models import load_model as load\n",
        "from keras.layers import Dense, Activation, Dropout, Input, Masking, TimeDistributed, LSTM, Conv1D\n",
        "from keras.layers import GRU, Bidirectional, BatchNormalization, Reshape\n",
        "from keras.optimizers import Adam\n",
        "import numpy as np"
      ]
    },
    {
      "cell_type": "code",
      "execution_count": null,
      "metadata": {
        "colab": {
          "base_uri": "https://localhost:8080/"
        },
        "id": "dGOYNRYaABy7",
        "outputId": "677b73a6-987b-400c-df2b-20abfd9215b0"
      },
      "outputs": [
        {
          "name": "stdout",
          "output_type": "stream",
          "text": [
            "Drive already mounted at /content/drive; to attempt to forcibly remount, call drive.mount(\"/content/drive\", force_remount=True).\n"
          ]
        }
      ],
      "source": [
        "\n",
        "from google.colab import drive\n",
        "drive.mount('/content/drive')"
      ]
    },
    {
      "cell_type": "code",
      "execution_count": null,
      "metadata": {
        "id": "LY-NOY9LAGka"
      },
      "outputs": [],
      "source": [
        "fake = np.load('/content/drive/MyDrive/Hacktrick/Footprints Datasets/fake.npz')\n",
        "real = np.load('/content/drive/MyDrive/Hacktrick/Footprints Datasets/real.npz')"
      ]
    },
    {
      "cell_type": "code",
      "execution_count": null,
      "metadata": {
        "colab": {
          "base_uri": "https://localhost:8080/"
        },
        "id": "zrnkotEKAQvL",
        "outputId": "3417f87b-7437-4004-8d1c-30d2dbe6481e"
      },
      "outputs": [
        {
          "name": "stdout",
          "output_type": "stream",
          "text": [
            "Requirement already satisfied: pydub in /usr/local/lib/python3.10/dist-packages (0.25.1)\n"
          ]
        }
      ],
      "source": [
        "!pip install pydub"
      ]
    },
    {
      "cell_type": "code",
      "execution_count": null,
      "metadata": {
        "id": "PXNtJBwHAiyd"
      },
      "outputs": [],
      "source": [
        "fake_data = fake['x']\n",
        "fake_labels = np.zeros(len(fake_data))\n",
        "real_data = real['x']\n",
        "real_labels = np.ones(len(real_data))"
      ]
    },
    {
      "cell_type": "code",
      "execution_count": null,
      "metadata": {
        "id": "GmoYoV16BM1i"
      },
      "outputs": [],
      "source": [
        "Tx = 1998 \n",
        "n_freq = 101"
      ]
    },
    {
      "cell_type": "code",
      "execution_count": null,
      "metadata": {
        "colab": {
          "base_uri": "https://localhost:8080/"
        },
        "id": "pIgJ8P2rBOuu",
        "outputId": "740ea071-d443-4635-fd05-331f94f2c6fa"
      },
      "outputs": [
        {
          "name": "stdout",
          "output_type": "stream",
          "text": [
            "fake len: 1998\n",
            "real len: 1998\n"
          ]
        }
      ],
      "source": [
        "print(\"fake len: \" + str(len(fake_data[0])))    \n",
        "print(\"real len: \" + str(len(real_data[0])))   \n",
        "# print(\"activate[1] len: \" + str(len(activates[1])))     "
      ]
    },
    {
      "cell_type": "code",
      "execution_count": null,
      "metadata": {
        "id": "qdK_MRsAiNop"
      },
      "outputs": [],
      "source": [
        "# x = fake_data + real_data\n",
        "# y = fake_labels + real_labels\n",
        "\n",
        "x = np.concatenate((fake_data, real_data), axis=0).astype(np.float64)\n",
        "y = np.concatenate((fake_labels, real_labels), axis=0)\n",
        "y = y.reshape(-1, 1)"
      ]
    },
    {
      "cell_type": "code",
      "execution_count": null,
      "metadata": {
        "id": "52PcfDhPUz3G"
      },
      "outputs": [],
      "source": [
        "clip_min = -1e10\n",
        "clip_max = 1e10\n",
        "x = np.clip(x, clip_min, clip_max)"
      ]
    },
    {
      "cell_type": "code",
      "execution_count": null,
      "metadata": {
        "colab": {
          "base_uri": "https://localhost:8080/"
        },
        "id": "5DFQ5GuhMGgP",
        "outputId": "dc5bd60b-199a-4a9d-fa7d-8828f1d50007"
      },
      "outputs": [
        {
          "name": "stdout",
          "output_type": "stream",
          "text": [
            "(1512, 1998, 101)\n",
            "(1512, 1)\n"
          ]
        }
      ],
      "source": [
        "print(x.shape)\n",
        "print(y.shape)"
      ]
    },
    {
      "cell_type": "code",
      "execution_count": null,
      "metadata": {
        "id": "DmJdnjAdOFsr"
      },
      "outputs": [],
      "source": [
        "X_train, X_test, y_train, y_test = train_test_split(x, y, test_size=0.2, random_state=42)"
      ]
    },
    {
      "cell_type": "code",
      "execution_count": null,
      "metadata": {
        "id": "uOZ-YZ_Jbqjd"
      },
      "outputs": [],
      "source": [
        "mean = np.mean(X_train, axis=(0, 1)) \n",
        "std = np.std(X_train, axis=(0, 1))   \n",
        "\n",
        "X_train = (X_train - mean) / std\n",
        "X_test = (X_test - mean) / std\n"
      ]
    },
    {
      "cell_type": "code",
      "execution_count": null,
      "metadata": {
        "id": "N-d5LabHMRE6"
      },
      "outputs": [],
      "source": [
        "from tensorflow.keras.callbacks import ModelCheckpoint\n",
        "from tensorflow.keras.models import Model, load_model, Sequential\n",
        "from tensorflow.keras.layers import Dense, Activation, Dropout, Input, Masking, TimeDistributed, LSTM, Conv1D, GlobalAveragePooling1D\n",
        "from tensorflow.keras.layers import GRU, Bidirectional, BatchNormalization, Reshape\n",
        "from tensorflow.keras.optimizers import Adam"
      ]
    },
    {
      "cell_type": "code",
      "execution_count": null,
      "metadata": {
        "id": "FL5bzYzkBR36"
      },
      "outputs": [],
      "source": [
        "def eagle_model(input_shape):\n",
        "\n",
        "  X_input = Input(shape=input_shape)\n",
        "\n",
        "  X = Conv1D(filters=196, kernel_size=15, strides=4)(X_input)\n",
        "  X = BatchNormalization()(X)\n",
        "  X = Activation('relu')(X)\n",
        "  X = Dropout(rate=0.8)(X)\n",
        "\n",
        "  X = GRU(128, return_sequences=True)(X)\n",
        "  X = Dropout(rate=0.8)(X)\n",
        "  X = BatchNormalization()(X)\n",
        "\n",
        "  X = GRU(128, return_sequences=True)(X)\n",
        "  X = Dropout(rate=0.8)(X)\n",
        "  X = BatchNormalization()(X)\n",
        "  X = Dropout(rate=0.8)(X)\n",
        "\n",
        "  X = GlobalAveragePooling1D()(X)\n",
        "\n",
        "  X = Dense(1, activation='sigmoid')(X)\n",
        "\n",
        "\n",
        "  model = Model(inputs=X_input, outputs=X)\n",
        "\n",
        "  return model"
      ]
    },
    {
      "cell_type": "code",
      "execution_count": null,
      "metadata": {
        "id": "z3dHqsGxM4ZE"
      },
      "outputs": [],
      "source": [
        "model = eagle_model(input_shape = (Tx, n_freq))\n"
      ]
    },
    {
      "cell_type": "code",
      "execution_count": null,
      "metadata": {
        "colab": {
          "base_uri": "https://localhost:8080/"
        },
        "id": "xXdaltZAM4v5",
        "outputId": "9e09eda1-5425-4c63-efbf-c39771153c42"
      },
      "outputs": [
        {
          "name": "stdout",
          "output_type": "stream",
          "text": [
            "Model: \"model\"\n",
            "_________________________________________________________________\n",
            " Layer (type)                Output Shape              Param #   \n",
            "=================================================================\n",
            " input_1 (InputLayer)        [(None, 1998, 101)]       0         \n",
            "                                                                 \n",
            " conv1d (Conv1D)             (None, 496, 196)          297136    \n",
            "                                                                 \n",
            " batch_normalization (Batch  (None, 496, 196)          784       \n",
            " Normalization)                                                  \n",
            "                                                                 \n",
            " activation (Activation)     (None, 496, 196)          0         \n",
            "                                                                 \n",
            " dropout (Dropout)           (None, 496, 196)          0         \n",
            "                                                                 \n",
            " gru (GRU)                   (None, 496, 128)          125184    \n",
            "                                                                 \n",
            " dropout_1 (Dropout)         (None, 496, 128)          0         \n",
            "                                                                 \n",
            " batch_normalization_1 (Bat  (None, 496, 128)          512       \n",
            " chNormalization)                                                \n",
            "                                                                 \n",
            " gru_1 (GRU)                 (None, 496, 128)          99072     \n",
            "                                                                 \n",
            " dropout_2 (Dropout)         (None, 496, 128)          0         \n",
            "                                                                 \n",
            " batch_normalization_2 (Bat  (None, 496, 128)          512       \n",
            " chNormalization)                                                \n",
            "                                                                 \n",
            " dropout_3 (Dropout)         (None, 496, 128)          0         \n",
            "                                                                 \n",
            " global_average_pooling1d (  (None, 128)               0         \n",
            " GlobalAveragePooling1D)                                         \n",
            "                                                                 \n",
            " dense (Dense)               (None, 1)                 129       \n",
            "                                                                 \n",
            "=================================================================\n",
            "Total params: 523329 (2.00 MB)\n",
            "Trainable params: 522425 (1.99 MB)\n",
            "Non-trainable params: 904 (3.53 KB)\n",
            "_________________________________________________________________\n"
          ]
        }
      ],
      "source": [
        "model.summary()\n"
      ]
    },
    {
      "cell_type": "code",
      "execution_count": null,
      "metadata": {
        "colab": {
          "base_uri": "https://localhost:8080/"
        },
        "id": "jEF5_sp_RKbV",
        "outputId": "4236247f-4e91-4ea3-88b4-329a3c5a1787"
      },
      "outputs": [
        {
          "name": "stderr",
          "output_type": "stream",
          "text": [
            "WARNING:absl:`lr` is deprecated in Keras optimizer, please use `learning_rate` or use the legacy optimizer, e.g.,tf.keras.optimizers.legacy.Adam.\n"
          ]
        }
      ],
      "source": [
        "from tensorflow.keras.metrics import BinaryAccuracy\n",
        "\n",
        "opt = Adam(lr=1e-8, beta_1=0.9, beta_2=0.999)\n",
        "model.compile(loss='binary_crossentropy', optimizer=opt, metrics=[BinaryAccuracy()])"
      ]
    },
    {
      "cell_type": "code",
      "execution_count": null,
      "metadata": {
        "colab": {
          "base_uri": "https://localhost:8080/"
        },
        "id": "qJvJXUpZRMW0",
        "outputId": "86f28c32-166a-47f7-9ad2-979268536b0f"
      },
      "outputs": [
        {
          "name": "stdout",
          "output_type": "stream",
          "text": [
            "Epoch 1/6\n",
            "1209/1209 [==============================] - 51s 42ms/step - loss: 0.6997 - binary_accuracy: 0.5087\n",
            "Epoch 2/6\n",
            "1209/1209 [==============================] - 47s 39ms/step - loss: 0.6964 - binary_accuracy: 0.5037\n",
            "Epoch 3/6\n",
            "1209/1209 [==============================] - 44s 37ms/step - loss: 0.6998 - binary_accuracy: 0.4979\n",
            "Epoch 4/6\n",
            "1209/1209 [==============================] - 46s 38ms/step - loss: 0.7030 - binary_accuracy: 0.4806\n",
            "Epoch 5/6\n",
            "1209/1209 [==============================] - 45s 37ms/step - loss: 0.7005 - binary_accuracy: 0.4665\n",
            "Epoch 6/6\n",
            "1209/1209 [==============================] - 45s 37ms/step - loss: 0.6989 - binary_accuracy: 0.4897\n"
          ]
        },
        {
          "data": {
            "text/plain": [
              "<keras.src.callbacks.History at 0x7f97adf801f0>"
            ]
          },
          "execution_count": 39,
          "metadata": {},
          "output_type": "execute_result"
        }
      ],
      "source": [
        "model.fit(X_train, y_train, batch_size = 1, epochs=6)"
      ]
    },
    {
      "cell_type": "code",
      "execution_count": null,
      "metadata": {
        "colab": {
          "base_uri": "https://localhost:8080/"
        },
        "id": "mFkX-3tBSN6f",
        "outputId": "86cae5ea-c297-4fa6-b675-3d778a2a7d16"
      },
      "outputs": [
        {
          "name": "stdout",
          "output_type": "stream",
          "text": [
            "10/10 [==============================] - 0s 30ms/step - loss: 0.6910 - binary_accuracy: 0.5248\n",
            "Dev set accuracy =  0.5247524976730347\n"
          ]
        }
      ],
      "source": [
        "loss, acc, = model.evaluate(X_test, y_test)\n",
        "print(\"Dev set accuracy = \", acc)"
      ]
    },
    {
      "cell_type": "code",
      "execution_count": null,
      "metadata": {
        "colab": {
          "base_uri": "https://localhost:8080/",
          "height": 472
        },
        "id": "vA7z3tYTX5lz",
        "outputId": "57670b97-e675-4039-c690-f6dc66988370"
      },
      "outputs": [
        {
          "data": {
            "image/png": "[encoded data removed]",
            "text/plain": [
              "<Figure size 640x480 with 1 Axes>"
            ]
          },
          "metadata": {},
          "output_type": "display_data"
        }
      ],
      "source": [
        "import matplotlib.pyplot as plt\n",
        "\n",
        "plt.plot((real_labels[33]).astype(np.uint8).T)\n",
        "plt.xlabel('Time (s)')\n",
        "plt.ylabel('Frequency (Hz)')\n",
        "plt.title('Spectrogram')\n",
        "plt.show()"
      ]
    },
    {
      "cell_type": "code",
      "execution_count": null,
      "metadata": {
        "colab": {
          "base_uri": "https://localhost:8080/",
          "height": 472
        },
        "id": "aio0Vo9z7AUE",
        "outputId": "f4d1ec92-f492-4bda-bd71-ff0cc5b06c78"
      },
      "outputs": [
        {
          "data": {
            "image/png": "[encoded data removed]",
            "text/plain": [
              "<Figure size 640x480 with 2 Axes>"
            ]
          },
          "metadata": {},
          "output_type": "display_data"
        }
      ],
      "source": [
        "import matplotlib.pyplot as plt\n",
        "\n",
        "plt.imshow((fake_data[30]).astype(np.uint8).T, aspect='auto')\n",
        "plt.xlabel('Time (s)')\n",
        "plt.ylabel('Frequency (Hz)')\n",
        "plt.title('Spectrogram')\n",
        "plt.colorbar(label='Intensity (dB)')\n",
        "plt.show()"
      ]
    },
    {
      "cell_type": "code",
      "execution_count": null,
      "metadata": {
        "id": "KvDYppFNXqU-"
      },
      "outputs": [],
      "source": [
        "def eagle_solve(x):\n",
        "  spect = np.expand_dims(x, axis=0)\n",
        "  prediction = model.predict(spect)\n",
        "  return 1 if prediction > 0.4 else 0"
      ]
    },
    {
      "cell_type": "code",
      "execution_count": null,
      "metadata": {
        "colab": {
          "base_uri": "https://localhost:8080/"
        },
        "id": "VFO-VIrGYVqC",
        "outputId": "dd61da0e-74b5-4dba-fe7b-f965791c978a"
      },
      "outputs": [],
      "source": [
        "count_miss = 0\n",
        "count_1 = 0\n",
        "count_0 = 0\n",
        "for i,x in enumerate(X_test):\n",
        "  t1 = eagle_solve(x)\n",
        "  t2 = int(y_test[i][0])\n",
        "  if t1 != t2:\n",
        "    count_1 += 1 if t2 == 1 else 0\n",
        "    count_0 += 1 if t2 == 0 else 0\n",
        "    count_miss+=1"
      ]
    },
    {
      "cell_type": "code",
      "execution_count": null,
      "metadata": {
        "colab": {
          "base_uri": "https://localhost:8080/"
        },
        "id": "YH9MLaGqY6_s",
        "outputId": "5bbd912d-c419-4fa6-adcc-7a2b38570556"
      },
      "outputs": [
        {
          "name": "stdout",
          "output_type": "stream",
          "text": [
            "148\n",
            "0\n",
            "148\n"
          ]
        }
      ],
      "source": [
        "print(count_miss)\n",
        "print(count_1)\n",
        "print(count_0)"
      ]
    },
    {
      "cell_type": "code",
      "execution_count": null,
      "metadata": {
        "colab": {
          "base_uri": "https://localhost:8080/"
        },
        "id": "-GMUNrYUbM9l",
        "outputId": "f6bb2064-14d8-47c4-c2b6-2704048bf31c"
      },
      "outputs": [
        {
          "name": "stderr",
          "output_type": "stream",
          "text": [
            "/usr/local/lib/python3.10/dist-packages/keras/src/engine/training.py:3103: UserWarning: You are saving your model as an HDF5 file via `model.save()`. This file format is considered legacy. We recommend using instead the native Keras format, e.g. `model.save('my_model.keras')`.\n",
            "  saving_api.save_model(\n"
          ]
        }
      ],
      "source": [
        "# model.save(\"/content/drive/MyDrive/Hacktrick/models/17_best_hany_with_foot.h5\")"
      ]
    },
    {
      "cell_type": "code",
      "execution_count": null,
      "metadata": {
        "id": "j-fFyMYEjq7z"
      },
      "outputs": [],
      "source": []
    }
  ],
  "metadata": {
    "accelerator": "GPU",
    "colab": {
      "gpuType": "T4",
      "provenance": []
    },
    "kernelspec": {
      "display_name": "Python 3",
      "name": "python3"
    },
    "language_info": {
      "name": "python"
    }
  },
  "nbformat": 4,
  "nbformat_minor": 0
}
