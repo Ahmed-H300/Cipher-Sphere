{
 "cells": [
  {
   "cell_type": "code",
   "execution_count": 21,
   "metadata": {},
   "outputs": [],
   "source": [
    "import requests\n",
    "import numpy as np\n",
    "from LSBSteg import encode\n",
    "from riddle_solvers import *\n",
    "import cv2\n",
    "\n",
    "api_base_url = \"http://3.70.97.142:5000\"\n",
    "# api_base_url = \"http://localhost:3005\"\n",
    "# team_id = Lu2xdzj (take care to use the same team id and start game 🧑🏼‍🚒)\n",
    "team_id=\"Lu2xdzj\"\n",
    "total_budget=0\n",
    "def init_fox(team_id):\n",
    "    '''\n",
    "    In this fucntion you need to hit to the endpoint to start the game as a fox with your team id.\n",
    "    If a sucessful response is returned, you will recive back the message that you can break into chunkcs\n",
    "      and the carrier image that you will encode the chunk in it.\n",
    "    '''\n",
    "    payload_sent = {\n",
    "        'teamId': team_id\n",
    "    }\n",
    "    response = requests.post(api_base_url+\"/fox/start\", json=payload_sent)\n",
    "    print(response)\n",
    "    if response.status_code == 200 or response.status_code == 201:\n",
    "        print(\"Game started successfully\")\n",
    "        data = response.json()\n",
    "        msg = data['msg']\n",
    "        carrier_image = data['carrier_image']\n",
    "        return msg, np.array(carrier_image)\n",
    "    else:\n",
    "        print(\"error: \", response.status_code)\n",
    "\n",
    "def generate_message_array(message, image_carrier):  \n",
    "    '''\n",
    "    In this function you will need to create your own startegy. That includes:\n",
    "        1. How you are going to split the real message into chunkcs\n",
    "        2. Include any fake chunks\n",
    "        3. Decide what 3 chuncks you will send in each turn in the 3 channels & what is their entities (F,R,E)\n",
    "        4. Encode each chunck in the image carrier  \n",
    "    '''\n",
    "    def split_string_into_two_chars(input_string):\n",
    "        pairs = [input_string[i:i+2] for i in range(0, len(input_string), 2)]\n",
    "        if len(input_string) % 2 != 0:\n",
    "            pairs.append(pairs.pop()[0])\n",
    "        return pairs\n",
    "    # new_message = split_string_into_two_chars(message)\n",
    "    new_message =[message]\n",
    "    index=0\n",
    "    channel=0\n",
    "    def sent_message(fake_msg,real_msg):\n",
    "        global total_budget\n",
    "        channel=0\n",
    "        message_entities=['E' for _ in range(3)]\n",
    "        messages = [image_carrier.tolist() for _ in range(3)]\n",
    "        for i in range(len(fake_msg)):\n",
    "            image=encode(image_carrier.copy(),fake_msg[i]).tolist()\n",
    "            messages[channel]=image\n",
    "            message_entities[channel]='F'\n",
    "            channel=(channel+1)%3\n",
    "            total_budget-=1\n",
    "        \n",
    "        for i in range(len(real_msg)):\n",
    "            image=encode(image_carrier.copy(),real_msg[i]).tolist()\n",
    "            messages[channel]=image\n",
    "            message_entities[channel]='R'\n",
    "            channel=(channel+1)%3\n",
    "\n",
    "    if(total_budget>=2):\n",
    "        print(\"total_budget > 2\")\n",
    "        sent_message([\"fake\",\"fffff\"],[new_message[index]])\n",
    "        \n",
    "    elif (total_budget>=1):\n",
    "        print(\"total_budget > 1\")\n",
    "        sent_message([\"fake\"],[new_message[index]])\n",
    "    else:\n",
    "        print(\"total_budget == 0\")\n",
    "        sent_message([],[new_message[index]])\n",
    "    # while(total_budget>0 ):\n",
    "    #     if(total_budget>=2):\n",
    "    #         sent_message([\"fake\",\"fffff\"],[new_message[index]])\n",
    "    #     else:\n",
    "    #         sent_message([\"fake\"],[new_message[index]])\n",
    "    #     index+=1\n",
    "    # while(index< len(new_message)):\n",
    "    #     sent_message([],[new_message[index]])\n",
    "    #     index+=1\n",
    "\n",
    "\n",
    "def get_riddle(team_id, riddle_id):\n",
    "    '''\n",
    "    In this function you will hit the api end point that requests the type of riddle you want to solve.\n",
    "    use the riddle id to request the specific riddle.\n",
    "    Note that: \n",
    "        1. Once you requested a riddle you cannot request it again per game. \n",
    "        2. Each riddle has a timeout if you didnot reply with your answer it will be considered as a wrong answer.\n",
    "        3. You cannot request several riddles at a time, so requesting a new riddle without answering the old one\n",
    "          will allow you to answer only the new riddle and you will have no access again to the old riddle. \n",
    "    '''\n",
    "    payload_sent = {\n",
    "        'teamId': team_id,\n",
    "        \"riddleId\": riddle_id\n",
    "    }\n",
    "    response = requests.post(api_base_url+\"/fox/get-riddle\", json=payload_sent)\n",
    "    if response.status_code == 200 or response.status_code == 201:\n",
    "        data = response.json()\n",
    "        print(\"Riddle requested successfully\")\n",
    "        test_case = data['test_case']\n",
    "        return test_case\n",
    "    else:\n",
    "        print(\"error: \", response.status_code)\n",
    "        return ''\n",
    "\n",
    "def solve_riddle(team_id, solution,total_budget):\n",
    "    '''\n",
    "    In this function you will solve the riddle that you have requested. \n",
    "    You will hit the API end point that submits your answer.\n",
    "    Use te riddle_solvers.py to implement the logic of each riddle.\n",
    "    '''\n",
    "    payload_sent = {\n",
    "        'teamId': team_id,\n",
    "        \"solution\": solution\n",
    "    }\n",
    "    response = requests.post(api_base_url+\"/fox/solve-riddle\", json=payload_sent)\n",
    "    if response.status_code == 200 or response.status_code == 201:\n",
    "        data = response.json()\n",
    "        budget_increase = data['budget_increase']\n",
    "        total_budget = data['total_budget']\n",
    "        status = data['status']\n",
    "        if(status == \"success\"):\n",
    "            print(\"Riddle solved successfully\")\n",
    "            print(\"Budget increased by: \", budget_increase)\n",
    "            print(\"Total budget: \", total_budget)\n",
    "        else:\n",
    "            print(\"Riddle not solved\")\n",
    "    else:\n",
    "        print(\"error: \", response.status_code)\n",
    "\n",
    "def send_message(team_id, messages, message_entities=['F', 'E', 'R']):\n",
    "    '''\n",
    "    Use this function to call the api end point to send one chunk of the message. \n",
    "    You will need to send the message (images) in each of the 3 channels along with their entites.\n",
    "    Refer to the API documentation to know more about what needs to be send in this api call. \n",
    "    '''\n",
    "    payload_sent = {\n",
    "        'teamId': team_id,\n",
    "        \"messages\": messages,\n",
    "        \"message_entities\":message_entities\n",
    "    }\n",
    "    print(\"das\")\n",
    "    response = requests.post(api_base_url+\"/fox/send-message\", json=payload_sent)\n",
    "    if response.status_code == 200 or response.status_code == 201:\n",
    "       print(\"Message sent successfully\")\n",
    "    else:\n",
    "        print(\"error: \", response.status_code)\n",
    "   \n",
    "def end_fox(team_id):\n",
    "    '''\n",
    "    Use this function to call the api end point of ending the fox game.\n",
    "    Note that:\n",
    "    1. Not calling this fucntion will cost you in the scoring function\n",
    "    2. Calling it without sending all the real messages will also affect your scoring fucntion\n",
    "      (Like failing to submit the entire message within the timelimit of the game).\n",
    "    '''\n",
    "    payload_sent = {\n",
    "        'teamId': team_id,\n",
    "    }\n",
    "    response = requests.post(api_base_url+\"/fox/end-game\", json=payload_sent)\n",
    "    if response.status_code == 200 or response.status_code == 201:\n",
    "        print(\"Game ended successfully\")\n",
    "    else:\n",
    "        print(\"error: \", response.status_code)\n",
    "\n",
    "# def submit_fox_attempt(team_id,total_budget):\n",
    "#     '''\n",
    "#      Call this function to start playing as a fox. \n",
    "#      You should submit with your own team id that was sent to you in the email.\n",
    "#      Remeber you have up to 15 Submissions as a Fox In phase1.\n",
    "#      In this function you should:\n",
    "#         1. Initialize the game as fox \n",
    "#         2. Solve riddles \n",
    "#         3. Make your own Strategy of sending the messages in the 3 channels\n",
    "#         4. Make your own Strategy of splitting the message into chunks\n",
    "#         5. Send the messages \n",
    "#         6. End the Game\n",
    "#     Note that:\n",
    "#         1. You HAVE to start and end the game on your own. The time between the starting and ending the game is taken into the scoring function\n",
    "#         2. You can send in the 3 channels any combination of F(Fake),R(Real),E(Empty) under the conditions that\n",
    "#             2.a. At most one real message is sent\n",
    "#             2.b. You cannot send 3 E(Empty) messages, there should be atleast R(Real)/F(Fake)\n",
    "#         3. Refer To the documentation to know more about the API handling \n",
    "#     '''\n",
    "#     msg, carrier_image=init_fox(team_id)\n",
    "#     ## solve riddles\n",
    "#     try:\n",
    "#         for riddle_id,riddle_func in riddle_solvers.items():\n",
    "#             test_case = get_riddle(team_id, riddle_id)\n",
    "#             if test_case == '':\n",
    "#                 continue\n",
    "#             solution = riddle_func(test_case)\n",
    "#             solve_riddle(team_id, solution,total_budget)\n",
    "#     except Exception as e:\n",
    "#         print(e)\n",
    "#     total_budget=min(total_budget,12)\n",
    "#     ## generate message array\n",
    "#     generate_message_array(msg, carrier_image)\n",
    "#     end_fox(team_id)\n",
    "\n",
    "\n",
    "# submit_fox_attempt(team_id,total_budget)\n"
   ]
  },
  {
   "cell_type": "code",
   "execution_count": 2,
   "metadata": {},
   "outputs": [
    {
     "name": "stdout",
     "output_type": "stream",
     "text": [
      "<Response [201]>\n",
      "Game started successfully\n"
     ]
    }
   ],
   "source": [
    "msg, carrier_image=init_fox(team_id)"
   ]
  },
  {
   "cell_type": "code",
   "execution_count": 3,
   "metadata": {},
   "outputs": [
    {
     "name": "stdout",
     "output_type": "stream",
     "text": [
      "Riddle requested successfully\n"
     ]
    },
    {
     "ename": "error",
     "evalue": "OpenCV(4.9.0) d:\\a\\opencv-python\\opencv-python\\opencv\\modules\\imgproc\\src\\color.simd_helpers.hpp:94: error: (-2:Unspecified error) in function '__cdecl cv::impl::`anonymous-namespace'::CvtHelper<struct cv::impl::`anonymous namespace'::Set<3,4,-1>,struct cv::impl::A0x59191d0d::Set<1,-1,-1>,struct cv::impl::A0x59191d0d::Set<0,2,5>,4>::CvtHelper(const class cv::_InputArray &,const class cv::_OutputArray &,int)'\n> Unsupported depth of input image:\n>     'VDepth::contains(depth)'\n> where\n>     'depth' is 4 (CV_32S)\n",
     "output_type": "error",
     "traceback": [
      "\u001b[1;31m---------------------------------------------------------------------------\u001b[0m",
      "\u001b[1;31merror\u001b[0m                                     Traceback (most recent call last)",
      "Cell \u001b[1;32mIn[3], line 3\u001b[0m\n\u001b[0;32m      1\u001b[0m riddle_id\u001b[38;5;241m=\u001b[39m\u001b[38;5;124m\"\u001b[39m\u001b[38;5;124mcv_easy\u001b[39m\u001b[38;5;124m\"\u001b[39m\n\u001b[0;32m      2\u001b[0m test_case \u001b[38;5;241m=\u001b[39m get_riddle(team_id, riddle_id)\n\u001b[1;32m----> 3\u001b[0m solution \u001b[38;5;241m=\u001b[39m \u001b[43msolve_cv_easy\u001b[49m\u001b[43m(\u001b[49m\u001b[43mtest_case\u001b[49m\u001b[43m)\u001b[49m\n\u001b[0;32m      4\u001b[0m solve_riddle(team_id, solution,total_budget)\n",
      "File \u001b[1;32md:\\Projects\\HackTrick2024\\Cipher-Sphere\\Solvers\\riddle_solvers.py:23\u001b[0m, in \u001b[0;36msolve_cv_easy\u001b[1;34m(test_case)\u001b[0m\n\u001b[0;32m     11\u001b[0m shredded_image \u001b[38;5;241m=\u001b[39m np\u001b[38;5;241m.\u001b[39marray(shredded_image)\n\u001b[0;32m     12\u001b[0m \u001b[38;5;250m\u001b[39m\u001b[38;5;124;03m\"\"\"\u001b[39;00m\n\u001b[0;32m     13\u001b[0m \u001b[38;5;124;03mThis function takes a tuple as input and returns a list as output.\u001b[39;00m\n\u001b[0;32m     14\u001b[0m \n\u001b[1;32m   (...)\u001b[0m\n\u001b[0;32m     21\u001b[0m \u001b[38;5;124;03mlist: A list of integers representing the order of shreds. When combined in this order, it builds the whole image.\u001b[39;00m\n\u001b[0;32m     22\u001b[0m \u001b[38;5;124;03m\"\"\"\u001b[39;00m\n\u001b[1;32m---> 23\u001b[0m gray_image \u001b[38;5;241m=\u001b[39m \u001b[43mcv2\u001b[49m\u001b[38;5;241;43m.\u001b[39;49m\u001b[43mcvtColor\u001b[49m\u001b[43m(\u001b[49m\u001b[43mshredded_image\u001b[49m\u001b[43m,\u001b[49m\u001b[43m \u001b[49m\u001b[43mcv2\u001b[49m\u001b[38;5;241;43m.\u001b[39;49m\u001b[43mCOLOR_BGR2GRAY\u001b[49m\u001b[43m)\u001b[49m\n\u001b[0;32m     24\u001b[0m shreds \u001b[38;5;241m=\u001b[39m np\u001b[38;5;241m.\u001b[39msplit(gray_image, gray_image\u001b[38;5;241m.\u001b[39mshape[\u001b[38;5;241m1\u001b[39m] \u001b[38;5;241m/\u001b[39m\u001b[38;5;241m/\u001b[39m shred_width, axis\u001b[38;5;241m=\u001b[39m\u001b[38;5;241m1\u001b[39m)\n\u001b[0;32m     25\u001b[0m visisted_shreds\u001b[38;5;241m=\u001b[39m\u001b[38;5;28mset\u001b[39m()\n",
      "\u001b[1;31merror\u001b[0m: OpenCV(4.9.0) d:\\a\\opencv-python\\opencv-python\\opencv\\modules\\imgproc\\src\\color.simd_helpers.hpp:94: error: (-2:Unspecified error) in function '__cdecl cv::impl::`anonymous-namespace'::CvtHelper<struct cv::impl::`anonymous namespace'::Set<3,4,-1>,struct cv::impl::A0x59191d0d::Set<1,-1,-1>,struct cv::impl::A0x59191d0d::Set<0,2,5>,4>::CvtHelper(const class cv::_InputArray &,const class cv::_OutputArray &,int)'\n> Unsupported depth of input image:\n>     'VDepth::contains(depth)'\n> where\n>     'depth' is 4 (CV_32S)\n"
     ]
    }
   ],
   "source": [
    "riddle_id=\"cv_easy\"\n",
    "test_case = get_riddle(team_id, riddle_id)\n",
    "solution = solve_cv_easy(test_case)\n",
    "solve_riddle(team_id, solution,total_budget)"
   ]
  },
  {
   "cell_type": "code",
   "execution_count": 4,
   "metadata": {},
   "outputs": [],
   "source": [
    "temp1=test_case"
   ]
  },
  {
   "cell_type": "code",
   "execution_count": null,
   "metadata": {},
   "outputs": [],
   "source": [
    "shredded_image, shred_width = test_case\n",
    "print(\"temp1\",shred_width)"
   ]
  },
  {
   "cell_type": "code",
   "execution_count": null,
   "metadata": {},
   "outputs": [],
   "source": [
    "cv2.imshow(\"temp1\", shredded_image)"
   ]
  },
  {
   "cell_type": "code",
   "execution_count": 5,
   "metadata": {},
   "outputs": [
    {
     "name": "stdout",
     "output_type": "stream",
     "text": [
      "Riddle requested successfully\n",
      "Riddle solved successfully\n",
      "Budget increased by:  2\n",
      "Total budget:  2\n"
     ]
    }
   ],
   "source": [
    "riddle_id=\"cv_medium\"\n",
    "test_case = get_riddle(team_id, riddle_id)\n",
    "solution = solve_cv_medium(test_case)\n",
    "solve_riddle(team_id, solution,total_budget)"
   ]
  },
  {
   "cell_type": "code",
   "execution_count": 6,
   "metadata": {},
   "outputs": [
    {
     "name": "stdout",
     "output_type": "stream",
     "text": [
      "Riddle requested successfully\n",
      "Riddle solved successfully\n",
      "Budget increased by:  3\n",
      "Total budget:  5\n"
     ]
    }
   ],
   "source": [
    "riddle_id=\"sec_hard\"\n",
    "test_case = get_riddle(team_id, riddle_id)\n",
    "solution = solve_sec_hard(test_case)\n",
    "solve_riddle(team_id, solution,total_budget)"
   ]
  },
  {
   "cell_type": "code",
   "execution_count": 7,
   "metadata": {},
   "outputs": [
    {
     "name": "stdout",
     "output_type": "stream",
     "text": [
      "Riddle requested successfully\n",
      "Riddle solved successfully\n",
      "Budget increased by:  1\n",
      "Total budget:  6\n"
     ]
    }
   ],
   "source": [
    "riddle_id=\"problem_solving_easy\"\n",
    "test_case = get_riddle(team_id, riddle_id)\n",
    "solution = solve_problem_solving_easy(test_case)\n",
    "solve_riddle(team_id, solution,total_budget)"
   ]
  },
  {
   "cell_type": "code",
   "execution_count": 8,
   "metadata": {},
   "outputs": [
    {
     "name": "stdout",
     "output_type": "stream",
     "text": [
      "Riddle requested successfully\n",
      "Riddle solved successfully\n",
      "Budget increased by:  2\n",
      "Total budget:  8\n"
     ]
    }
   ],
   "source": [
    "riddle_id=\"problem_solving_medium\"\n",
    "test_case = get_riddle(team_id, riddle_id)\n",
    "solution = solve_problem_solving_medium(test_case)\n",
    "solve_riddle(team_id, solution,total_budget)"
   ]
  },
  {
   "cell_type": "code",
   "execution_count": 9,
   "metadata": {},
   "outputs": [
    {
     "name": "stdout",
     "output_type": "stream",
     "text": [
      "Riddle requested successfully\n",
      "Riddle solved successfully\n",
      "Budget increased by:  3\n",
      "Total budget:  11\n"
     ]
    }
   ],
   "source": [
    "riddle_id=\"problem_solving_hard\"\n",
    "test_case = get_riddle(team_id, riddle_id)\n",
    "solution = solve_problem_solving_hard(test_case)\n",
    "solve_riddle(team_id, solution,total_budget)"
   ]
  },
  {
   "cell_type": "code",
   "execution_count": 24,
   "metadata": {},
   "outputs": [
    {
     "name": "stdout",
     "output_type": "stream",
     "text": [
      "total_budget > 2\n"
     ]
    }
   ],
   "source": [
    "generate_message_array(msg, carrier_image,11)\n"
   ]
  },
  {
   "cell_type": "code",
   "execution_count": 25,
   "metadata": {},
   "outputs": [
    {
     "name": "stdout",
     "output_type": "stream",
     "text": [
      "error:  400\n"
     ]
    }
   ],
   "source": [
    "end_fox(\"Lu2xdzj\")"
   ]
  },
  {
   "cell_type": "code",
   "execution_count": 23,
   "metadata": {},
   "outputs": [],
   "source": [
    "def generate_message_array(message, image_carrier,total_budget):  \n",
    "    '''\n",
    "    In this function you will need to create your own startegy. That includes:\n",
    "        1. How you are going to split the real message into chunkcs\n",
    "        2. Include any fake chunks\n",
    "        3. Decide what 3 chuncks you will send in each turn in the 3 channels & what is their entities (F,R,E)\n",
    "        4. Encode each chunck in the image carrier  \n",
    "    '''\n",
    "    def split_string_into_two_chars(input_string):\n",
    "        pairs = [input_string[i:i+2] for i in range(0, len(input_string), 2)]\n",
    "        if len(input_string) % 2 != 0:\n",
    "            pairs.append(pairs.pop()[0])\n",
    "        return pairs\n",
    "    # new_message = split_string_into_two_chars(message)\n",
    "    new_message =[message]\n",
    "    index=0\n",
    "    channel=0\n",
    "    def sent_message(fake_msg,real_msg):\n",
    "        channel=0\n",
    "        message_entities=['E' for _ in range(3)]\n",
    "        messages = [image_carrier.tolist() for _ in range(3)]\n",
    "        for i in range(len(fake_msg)):\n",
    "            image=encode(image_carrier.copy(),fake_msg[i]).tolist()\n",
    "            messages[channel]=image\n",
    "            message_entities[channel]='F'\n",
    "            channel=(channel+1)%3\n",
    "        \n",
    "        for i in range(len(real_msg)):\n",
    "            image=encode(image_carrier.copy(),real_msg[i]).tolist()\n",
    "            messages[channel]=image\n",
    "            message_entities[channel]='R'\n",
    "            channel=(channel+1)%3\n",
    "\n",
    "    if(total_budget>=2):\n",
    "        print(\"total_budget > 2\")\n",
    "        sent_message([\"fake\",\"fffff\"],[new_message[index]])\n",
    "        \n",
    "    elif (total_budget>=1):\n",
    "        print(\"total_budget > 1\")\n",
    "        sent_message([\"fake\"],[new_message[index]])\n",
    "    else:\n",
    "        print(\"total_budget == 0\")\n",
    "        sent_message([],[new_message[index]])"
   ]
  },
  {
   "cell_type": "code",
   "execution_count": null,
   "metadata": {},
   "outputs": [],
   "source": []
  }
 ],
 "metadata": {
  "kernelspec": {
   "display_name": "Python 3",
   "language": "python",
   "name": "python3"
  },
  "language_info": {
   "codemirror_mode": {
    "name": "ipython",
    "version": 3
   },
   "file_extension": ".py",
   "mimetype": "text/x-python",
   "name": "python",
   "nbconvert_exporter": "python",
   "pygments_lexer": "ipython3",
   "version": "3.12.1"
  }
 },
 "nbformat": 4,
 "nbformat_minor": 2
}
