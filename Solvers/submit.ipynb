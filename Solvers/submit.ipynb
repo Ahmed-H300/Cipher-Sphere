{
 "cells": [
  {
   "cell_type": "code",
   "execution_count": 1,
   "metadata": {},
   "outputs": [],
   "source": [
    "import requests\n",
    "import numpy as np\n",
    "from LSBSteg import encode\n",
    "from riddle_solvers import *\n",
    "import cv2\n",
    "from PIL import Image\n",
    "import matplotlib.pyplot as plt\n",
    "\n",
    "api_base_url = \"http://3.70.97.142:5000\"\n",
    "# api_base_url = \"http://localhost:3005\"\n",
    "# team_id = Lu2xdzj (take care to use the same team id and start game 🧑🏼‍🚒)\n",
    "team_id=\"Lu2xdzj\"\n",
    "# team_id = \"xxx\"\n",
    "total_budget=0\n",
    "def init_fox(team_id):\n",
    "    '''\n",
    "    In this fucntion you need to hit to the endpoint to start the game as a fox with your team id.\n",
    "    If a sucessful response is returned, you will recive back the message that you can break into chunkcs\n",
    "      and the carrier image that you will encode the chunk in it.\n",
    "    '''\n",
    "    payload_sent = {\n",
    "        'teamId': team_id\n",
    "    }\n",
    "    response = requests.post(api_base_url+\"/fox/start\", json=payload_sent)\n",
    "    print(response)\n",
    "    if response.status_code == 200 or response.status_code == 201:\n",
    "        print(\"Game started successfully\")\n",
    "        data = response.json()\n",
    "        msg = data['msg']\n",
    "        carrier_image = data['carrier_image']\n",
    "        return msg, np.array(carrier_image),np.array(carrier_image,dtype=np.uint8)\n",
    "    else:\n",
    "        print(\"error: \", response.status_code)\n",
    "        return None, None,None\n",
    "\n",
    "\n",
    "\n",
    "def split_string_into_two_chars(input_string):\n",
    "    pairs = [input_string[i:i+2] for i in range(0, len(input_string), 2)]\n",
    "    if len(input_string) % 2 != 0:\n",
    "        pairs.append(pairs.pop()[0])\n",
    "    return pairs\n",
    "    \n",
    "def send_message(team_id, messages, message_entities=['F', 'F', 'R']):\n",
    "    '''\n",
    "    Use this function to call the api end point to send one chunk of the message. \n",
    "    You will need to send the message (images) in each of the 3 channels along with their entites.\n",
    "    Refer to the API documentation to know more about what needs to be send in this api call. \n",
    "    '''\n",
    "    payload_sent = {\n",
    "        'teamId': team_id,\n",
    "        \"messages\": messages,\n",
    "        \"message_entities\":message_entities\n",
    "    }\n",
    "    response = requests.post(api_base_url+\"/fox/send-message\", json=payload_sent)\n",
    "    # if response.status_code == 200 or response.status_code == 201:\n",
    "    #    print(\"Message sent successfully\")\n",
    "    # else:\n",
    "    #     print(\"error: \", response.status_code)\n",
    "   \n",
    "def prepare_message(fake_msg,real_msg,total_budget,channel,team_id,image_carrier):\n",
    "    message_entities = ['E' for _ in range(3)]\n",
    "    messages = [image_carrier.tolist() for _ in range(3)]\n",
    "    for i in range(len(fake_msg)):\n",
    "        image=encode(image_carrier.copy(),fake_msg[i]).tolist()\n",
    "        messages[channel]=image\n",
    "        message_entities[channel]='F'\n",
    "        channel=(channel+1)%3\n",
    "        total_budget-=1\n",
    "    \n",
    "    for i in range(len(real_msg)):\n",
    "        image=encode(image_carrier.copy(),real_msg[i]).tolist()\n",
    "        messages[channel]=image\n",
    "        message_entities[channel]='R'\n",
    "        channel=(channel+1)%3\n",
    "    send_message(team_id, messages, message_entities)\n",
    "    return channel,total_budget\n",
    "\n",
    "def generate_message_array(message, image_carrier, total_budget, team_id):\n",
    "    '''\n",
    "    In this function you will need to create your own startegy. That includes:\n",
    "        1. How you are going to split the real message into chunkcs\n",
    "        2. Include any fake chunks\n",
    "        3. Decide what 3 chuncks you will send in each turn in the 3 channels & what is their entities (F,R,E)\n",
    "        4. Encode each chunck in the image carrier  \n",
    "    '''\n",
    "    # new_message = split_string_into_two_chars(message)\n",
    "    new_message =[message]\n",
    "    index=0\n",
    "    channel=0\n",
    "\n",
    "    if(total_budget>=2):\n",
    "        # print(\"total_budget > 2\")\n",
    "        channel,total_budget = prepare_message([\"$#$#$\",\"#$#$$$\"],[new_message[index]],total_budget,channel,team_id,image_carrier)\n",
    "        \n",
    "    elif (total_budget>=1):\n",
    "        print(\"total_budget > 1\")\n",
    "        channel,total_budget = prepare_message([\"#$#$\"],[new_message[index]],total_budget,channel,team_id,image_carrier)\n",
    "    else:\n",
    "        print(\"total_budget == 0\")\n",
    "        channel,total_budget = prepare_message([],[new_message[index]],total_budget,channel,team_id,image_carrier)\n",
    "\n",
    "def get_riddle(team_id, riddle_id):\n",
    "    '''\n",
    "    In this function you will hit the api end point that requests the type of riddle you want to solve.\n",
    "    use the riddle id to request the specific riddle.\n",
    "    Note that: \n",
    "        1. Once you requested a riddle you cannot request it again per game. \n",
    "        2. Each riddle has a timeout if you didnot reply with your answer it will be considered as a wrong answer.\n",
    "        3. You cannot request several riddles at a time, so requesting a new riddle without answering the old one\n",
    "          will allow you to answer only the new riddle and you will have no access again to the old riddle. \n",
    "    '''\n",
    "    payload_sent = {\n",
    "        'teamId': team_id,\n",
    "        \"riddleId\": riddle_id\n",
    "    }\n",
    "    response = requests.post(api_base_url+\"/fox/get-riddle\", json=payload_sent)\n",
    "    if response.status_code == 200 or response.status_code == 201:\n",
    "        data = response.json()\n",
    "        # print(\"Riddle requested successfully\")\n",
    "        test_case = data['test_case']\n",
    "        return test_case\n",
    "    else:\n",
    "        print(\"error: \", response.status_code)\n",
    "        return ''\n",
    "\n",
    "def solve_riddle(team_id, solution,total_budget):\n",
    "    '''\n",
    "    In this function you will solve the riddle that you have requested. \n",
    "    You will hit the API end point that submits your answer.\n",
    "    Use te riddle_solvers.py to implement the logic of each riddle.\n",
    "    '''\n",
    "    payload_sent = {\n",
    "        'teamId': team_id,\n",
    "        \"solution\": solution\n",
    "    }\n",
    "    response = requests.post(api_base_url+\"/fox/solve-riddle\", json=payload_sent)\n",
    "    if response.status_code == 200 or response.status_code == 201:\n",
    "        data = response.json()\n",
    "        budget_increase = data['budget_increase']\n",
    "        total_budget = data['total_budget']\n",
    "        status = data['status']\n",
    "        # if(status == \"success\"):\n",
    "        #     # print(\"Riddle solved successfully\")\n",
    "        #     # print(\"Budget increased by: \", budget_increase)\n",
    "        #     # print(\"Total budget: \", total_budget)\n",
    "        # else:\n",
    "            # print(\"Riddle not solved\")\n",
    "    else:\n",
    "        print(\"error: \", response.status_code)\n",
    "    return total_budget\n",
    "\n",
    "def end_fox(team_id):\n",
    "    '''\n",
    "    Use this function to call the api end point of ending the fox game.\n",
    "    Note that:\n",
    "    1. Not calling this fucntion will cost you in the scoring function\n",
    "    2. Calling it without sending all the real messages will also affect your scoring fucntion\n",
    "      (Like failing to submit the entire message within the timelimit of the game).\n",
    "    '''\n",
    "    payload_sent = {\n",
    "        'teamId': team_id,\n",
    "    }\n",
    "    response = requests.post(api_base_url+\"/fox/end-game\", json=payload_sent)\n",
    "    \n",
    "    if response.status_code == 200 or response.status_code == 201:\n",
    "        print(\"Game ended successfully\")\n",
    "    else:\n",
    "        print(\"error: \", response.status_code)\n",
    "    return response\n",
    "\n",
    "\n",
    "def fail_riddle(team_id):\n",
    "    payload_sent = {\n",
    "        'teamId': team_id,\n",
    "        \"solution\": \"faile\"\n",
    "    }\n",
    "    response = requests.post(api_base_url+\"/fox/solve-riddle\", json=payload_sent)\n",
    "    print(response)\n",
    "    \n"
   ]
  },
  {
   "cell_type": "code",
   "execution_count": 2,
   "metadata": {},
   "outputs": [
    {
     "name": "stdout",
     "output_type": "stream",
     "text": [
      "<Response [201]>\n",
      "Game started successfully\n"
     ]
    }
   ],
   "source": [
    "\n",
    "\n",
    "msg, carrier_image,carrier_image2=init_fox(team_id)\n",
    "\n",
    "\n",
    "\n",
    "riddle_id=\"problem_solving_hard\"\n",
    "test_case_problem_solving_hard = get_riddle(team_id, riddle_id)\n",
    "# print(test_case_problem_solving_hard)\n",
    "solution_1 = solve_problem_solving_hard(test_case_problem_solving_hard)\n",
    "total_budget = solve_riddle(team_id, solution_1,total_budget)\n",
    "\n",
    "riddle_id=\"problem_solving_easy\"\n",
    "test_case_problem_solving_easy = get_riddle(team_id, riddle_id)\n",
    "# print(test_case_problem_solving_easy)\n",
    "solution_2 = solve_problem_solving_easy(test_case_problem_solving_easy)\n",
    "total_budget = solve_riddle(team_id, solution_2,total_budget)\n",
    "\n",
    "\n",
    "riddle_id=\"problem_solving_medium\"\n",
    "test_case_problem_solving_medium = get_riddle(team_id, riddle_id)\n",
    "# print(test_case_problem_solving_medium)\n",
    "solution_3 = solve_problem_solving_medium(test_case_problem_solving_medium)\n",
    "total_budget = solve_riddle(team_id, solution_3,total_budget)\n",
    "\n",
    "\n",
    "riddle_id=\"sec_hard\"\n",
    "test_case_sec_hard = get_riddle(team_id, riddle_id)\n",
    "# print(test_case_sec_hard)\n",
    "solution_4 = solve_sec_hard(test_case_sec_hard)\n",
    "total_budget = solve_riddle(team_id, solution_4,total_budget)\n",
    "\n",
    "\n",
    "\n",
    "riddle_id=\"cv_easy\"\n",
    "test_case_cv_easy = get_riddle(team_id, riddle_id)\n",
    "# print(test_case_cv_easy)\n",
    "solution_5 = solve_cv_easy(test_case_cv_easy)\n",
    "total_budget = solve_riddle(team_id, solution_5,total_budget)\n",
    "\n",
    "\n",
    "\n",
    "\n",
    "try:\n",
    "    riddle_id=\"ml_easy\"\n",
    "    test_case_ml_easy = get_riddle(team_id, riddle_id)\n",
    "    # print(test_case_ml_easy)\n",
    "    solution_6 = solve_ml_easy(test_case_ml_easy)\n",
    "    total_budget = solve_riddle(team_id, solution_6,total_budget)\n",
    "except Exception as e:\n",
    "    print('error in ml_easy')\n",
    "    print(e)\n"
   ]
  },
  {
   "cell_type": "code",
   "execution_count": 3,
   "metadata": {},
   "outputs": [
    {
     "name": "stdout",
     "output_type": "stream",
     "text": [
      "error:  400\n",
      "error in test_case_sec_medium_stegano\n",
      "string index out of range\n"
     ]
    }
   ],
   "source": [
    "\n",
    "\n",
    "try:\n",
    "    riddle_id=\"sec_medium_stegano\"\n",
    "    test_case_sec_medium_stegano = get_riddle(team_id, riddle_id)\n",
    "    # print(test_case_sec_medium_stegano)\n",
    "    solution_9 =solve_sec_medium( np.transpose(test_case_sec_medium_stegano[0], (1, 2, 0)) ) \n",
    "    solve_riddle(team_id, solution_9,total_budget)\n",
    "\n",
    "except Exception as e:\n",
    "    payload_sent = {\n",
    "            'teamId': team_id,\n",
    "            \"solution\": \"Bed.\"\n",
    "        }\n",
    "    response = requests.post(api_base_url+\"/fox/solve-riddle\", json=payload_sent)\n",
    "\n",
    "    print('error in test_case_sec_medium_stegano')\n",
    "    print(e)\n",
    "\n"
   ]
  },
  {
   "cell_type": "code",
   "execution_count": 13,
   "metadata": {},
   "outputs": [
    {
     "name": "stdout",
     "output_type": "stream",
     "text": [
      "0\n"
     ]
    }
   ],
   "source": [
    "# cv2.imshow(np.transpose(test_case_sec_medium_stegano[0], (1, 2, 0)))\n",
    "print(len(test_case_sec_medium_stegano))\n"
   ]
  },
  {
   "cell_type": "code",
   "execution_count": 4,
   "metadata": {},
   "outputs": [],
   "source": [
    "\n",
    "try:\n",
    "    riddle_id=\"ml_medium\"\n",
    "    test_case_ml_medium = get_riddle(team_id, riddle_id)\n",
    "    # print(test_case_ml_medium)\n",
    "    solution_7 = solve_ml_medium(test_case_ml_medium)\n",
    "    # solve_riddle(team_id, solution_7,total_budget)\n",
    "except Exception as e:\n",
    "    payload_sent = {\n",
    "            'teamId': team_id,\n",
    "            \"solution\": -1\n",
    "        }\n",
    "    response = requests.post(api_base_url+\"/fox/solve-riddle\", json=payload_sent)\n",
    "    print('error in ml_medium')\n",
    "    print(e)\n",
    "    "
   ]
  },
  {
   "cell_type": "code",
   "execution_count": 6,
   "metadata": {},
   "outputs": [
    {
     "name": "stdout",
     "output_type": "stream",
     "text": [
      "Riddle solved successfully\n",
      "Budget increased by:  2\n",
      "Total budget:  12\n"
     ]
    },
    {
     "data": {
      "text/plain": [
       "12"
      ]
     },
     "execution_count": 6,
     "metadata": {},
     "output_type": "execute_result"
    }
   ],
   "source": [
    "# solve_riddle(team_id, solution_7,total_budget)\n",
    "# payload_sent = {\n",
    "#         'teamId': team_id,\n",
    "#         \"solution\": -1\n",
    "#     }\n",
    "# response = requests.post(api_base_url+\"/fox/solve-riddle\", json=payload_sent)\n",
    "# print(response)"
   ]
  },
  {
   "cell_type": "code",
   "execution_count": 5,
   "metadata": {},
   "outputs": [],
   "source": [
    "generate_message_array(msg[:5], carrier_image,total_budget,team_id)\n",
    "generate_message_array(msg[5:10], carrier_image,total_budget,team_id)\n",
    "generate_message_array(msg[10:], carrier_image,total_budget,team_id)"
   ]
  },
  {
   "cell_type": "code",
   "execution_count": 9,
   "metadata": {},
   "outputs": [],
   "source": [
    "# riddle_id=\"cv_hard\"\n",
    "# test_case_cv_hard = get_riddle(team_id, riddle_id)\n",
    "# # print(test_case_cv_hard[0])\n",
    "# # plt.imshow(np.array(test_case_cv_hard[1]).astype(np.uint8), aspect='auto')\n",
    "# # plt.xlabel('Time (s)')\n",
    "# # plt.ylabel('Frequency (Hz)')\n",
    "# # plt.title('Spectrogram')\n",
    "# # plt.colorbar(label='Intensity (dB)')\n",
    "# # plt.show()\n",
    "\n",
    "\n",
    "\n",
    "\n",
    "# image = test_case_cv_hard[1]\n",
    "\n",
    "# # Display the image with a title\n",
    "# cv2.imshow(test_case_cv_hard[0],np.array(image).astype(np.uint8))\n",
    "# # cv2.setWindowTitle('Test Case CV Hard', 'Test Case CV Hard')\n",
    "\n",
    "# # Wait for user input\n",
    "# user_input = cv2.waitKey(0)\n",
    "\n",
    "# cv2.destroyAllWindows()\n",
    "# user_input = int(input(\"Enter the number: \"))\n",
    "\n",
    "# payload_sent = {\n",
    "#         'teamId': team_id,\n",
    "#         \"solution\": user_input\n",
    "#     }\n",
    "# response = requests.post(api_base_url+\"/fox/solve-riddle\", json=payload_sent)\n",
    "# # print(response)\n"
   ]
  },
  {
   "cell_type": "code",
   "execution_count": 6,
   "metadata": {},
   "outputs": [
    {
     "name": "stdout",
     "output_type": "stream",
     "text": [
      "error:  400\n"
     ]
    },
    {
     "ename": "IndexError",
     "evalue": "string index out of range",
     "output_type": "error",
     "traceback": [
      "\u001b[1;31m---------------------------------------------------------------------------\u001b[0m",
      "\u001b[1;31mIndexError\u001b[0m                                Traceback (most recent call last)",
      "Cell \u001b[1;32mIn[6], line 3\u001b[0m\n\u001b[0;32m      1\u001b[0m riddle_id\u001b[38;5;241m=\u001b[39m\u001b[38;5;124m\"\u001b[39m\u001b[38;5;124mcv_hard\u001b[39m\u001b[38;5;124m\"\u001b[39m\n\u001b[0;32m      2\u001b[0m test_case_cv_hard \u001b[38;5;241m=\u001b[39m get_riddle(team_id, riddle_id)\n\u001b[1;32m----> 3\u001b[0m image \u001b[38;5;241m=\u001b[39m \u001b[43mtest_case_cv_hard\u001b[49m\u001b[43m[\u001b[49m\u001b[38;5;241;43m1\u001b[39;49m\u001b[43m]\u001b[49m\n\u001b[0;32m      4\u001b[0m cv2\u001b[38;5;241m.\u001b[39mimshow(test_case_cv_hard[\u001b[38;5;241m0\u001b[39m],np\u001b[38;5;241m.\u001b[39marray(image)\u001b[38;5;241m.\u001b[39mastype(np\u001b[38;5;241m.\u001b[39muint8))\n\u001b[0;32m      6\u001b[0m \u001b[38;5;66;03m# Wait for user input\u001b[39;00m\n",
      "\u001b[1;31mIndexError\u001b[0m: string index out of range"
     ]
    }
   ],
   "source": [
    "\n",
    "\n",
    "riddle_id=\"cv_hard\"\n",
    "test_case_cv_hard = get_riddle(team_id, riddle_id)\n",
    "image = test_case_cv_hard[1]\n",
    "cv2.imshow(test_case_cv_hard[0],np.array(image).astype(np.uint8))\n",
    "\n",
    "# Wait for user input\n",
    "user_input = cv2.waitKey(0)\n",
    "\n",
    "cv2.destroyAllWindows()\n",
    "user_input = int(input(\"Enter the number: \"))\n",
    "\n",
    "payload_sent = {\n",
    "        'teamId': team_id,\n",
    "        \"solution\": user_input\n",
    "    }\n",
    "response = requests.post(api_base_url+\"/fox/solve-riddle\", json=payload_sent)\n",
    "print(response)\n",
    "\n"
   ]
  },
  {
   "cell_type": "code",
   "execution_count": 9,
   "metadata": {},
   "outputs": [],
   "source": [
    "# payload_sent = {\n",
    "#         'teamId': team_id,\n",
    "#         \"solution\": 10\n",
    "#     }\n",
    "# response = requests.post(api_base_url+\"/fox/solve-riddle\", json=payload_sent)\n",
    "# print(response)\n"
   ]
  },
  {
   "cell_type": "code",
   "execution_count": 36,
   "metadata": {},
   "outputs": [],
   "source": [
    "\n",
    "# riddle_id=\"cv_medium\"\n",
    "# test_case_cv_medium = get_riddle(team_id, riddle_id)\n",
    "# # print(test_case_cv_medium)\n",
    "# solution_8 = solve_cv_medium(test_case_cv_medium)\n"
   ]
  },
  {
   "cell_type": "code",
   "execution_count": 35,
   "metadata": {},
   "outputs": [],
   "source": [
    "# print(len(test_case_cv_medium[0][0]))\n",
    "# print(len(test_case_cv_medium[0]))\n",
    "\n",
    "# print(len(test_case_cv_medium[0]))\n",
    "\n",
    "# import matplotlib.pyplot as plt\n",
    "# plt.imshow(np.array(test_case_cv_medium[0]).astype(np.uint8), aspect='auto')\n",
    "# plt.xlabel('Time (s)')\n",
    "# plt.ylabel('Frequency (Hz)')\n",
    "# plt.title('Spectrogram')\n",
    "# plt.colorbar(label='Intensity (dB)')\n",
    "# plt.show()\n",
    "# cv2.imwrite(\"ouput.jpg\", np.array(test_case_cv_medium[0]).astype(np.uint8))\n",
    "\n",
    "# plt.imshow(np.array(test_case_cv_medium[1]).astype(np.uint8), aspect='auto')\n",
    "# plt.xlabel('Time (s)')\n",
    "# plt.ylabel('Frequency (Hz)')\n",
    "# plt.title('Spectrogram')\n",
    "# plt.colorbar(label='Intensity (dB)')\n",
    "# plt.show()\n",
    "\n",
    "# cv2.imwrite(\"ouput2.jpg\", np.array(test_case_cv_medium[1]).astype(np.uint8))\n"
   ]
  },
  {
   "cell_type": "code",
   "execution_count": null,
   "metadata": {},
   "outputs": [],
   "source": [
    "# total_budget = solve_riddle(team_id, solution_8,total_budget)\n",
    "\n",
    "\n",
    "\n",
    "# combined_image_array , patch_image_array = test_case_cv_medium\n",
    "# payload_sent = {\n",
    "#         'teamId': team_id,\n",
    "#         \"solution\": combined_image_array\n",
    "#     }\n",
    "# response = requests.post(api_base_url+\"/fox/solve-riddle\", json=payload_sent)\n",
    "# print(response) \n"
   ]
  },
  {
   "cell_type": "code",
   "execution_count": 7,
   "metadata": {},
   "outputs": [
    {
     "name": "stdout",
     "output_type": "stream",
     "text": [
      "Game ended successfully\n",
      "<Response [200]>\n"
     ]
    }
   ],
   "source": [
    "rsponse_end = end_fox(\"Lu2xdzj\")\n",
    "print(rsponse_end)"
   ]
  },
  {
   "cell_type": "code",
   "execution_count": 8,
   "metadata": {},
   "outputs": [
    {
     "name": "stdout",
     "output_type": "stream",
     "text": [
      "Game ended successfully with a score of 35.49122476. Which is not higher than your highest score.\n"
     ]
    }
   ],
   "source": [
    "print(rsponse_end.text)"
   ]
  },
  {
   "cell_type": "code",
   "execution_count": 22,
   "metadata": {},
   "outputs": [
    {
     "name": "stdout",
     "output_type": "stream",
     "text": [
      "User input: 12\n"
     ]
    }
   ],
   "source": [
    "# import cv2\n",
    "\n",
    "# # Assuming 'test_case_cv_hard' is a list, and you want to show the second element\n",
    "# image = test_case_cv_hard[1]\n",
    "\n",
    "# # Display the image with a title\n",
    "# cv2.imshow(test_case_cv_hard[0],np.array(image).astype(np.uint8))\n",
    "# # cv2.setWindowTitle('Test Case CV Hard', 'Test Case CV Hard')\n",
    "\n",
    "# # Wait for user input\n",
    "# user_input = cv2.waitKey(0)\n",
    "\n",
    "# # Close the OpenCV window\n",
    "# cv2.destroyAllWindows()\n",
    "\n",
    "# # Convert the user input to a numeric value (if applicable)\n",
    "# # numeric_input = None\n",
    "# # if user_input >= 48 and user_input <= 57:  # Check if the key pressed is a number (ASCII codes for '0' to '9')\n",
    "# #     numeric_input = int(chr(user_input))\n",
    "# user_input = int(input(\"Enter the number: \"))\n",
    "# print('User input:', user_input)\n"
   ]
  },
  {
   "cell_type": "code",
   "execution_count": 34,
   "metadata": {},
   "outputs": [
    {
     "ename": "RuntimeError",
     "evalue": "Given groups=1, weight of size [32, 3, 3, 3], expected input[1, 4, 20, 20] to have 3 channels, but got 4 channels instead",
     "output_type": "error",
     "traceback": [
      "\u001b[1;31m---------------------------------------------------------------------------\u001b[0m",
      "\u001b[1;31mRuntimeError\u001b[0m                              Traceback (most recent call last)",
      "Cell \u001b[1;32mIn[34], line 3\u001b[0m\n\u001b[0;32m      1\u001b[0m image_path \u001b[38;5;241m=\u001b[39m \u001b[38;5;124m'\u001b[39m\u001b[38;5;124mSteganoGAN/sample_example/image_0.png\u001b[39m\u001b[38;5;124m'\u001b[39m\n\u001b[0;32m      2\u001b[0m image \u001b[38;5;241m=\u001b[39m Image\u001b[38;5;241m.\u001b[39mopen(image_path)\n\u001b[1;32m----> 3\u001b[0m \u001b[43msolve_sec_medium\u001b[49m\u001b[43m(\u001b[49m\u001b[43mimage\u001b[49m\u001b[43m)\u001b[49m\n\u001b[0;32m      5\u001b[0m \u001b[38;5;66;03m# transform = transforms.Compose([\u001b[39;00m\n\u001b[0;32m      6\u001b[0m \u001b[38;5;66;03m#     transforms.ToTensor(),\u001b[39;00m\n\u001b[0;32m      7\u001b[0m \u001b[38;5;66;03m# ])\u001b[39;00m\n\u001b[0;32m      8\u001b[0m \u001b[38;5;66;03m# tensor_image = transform(image)\u001b[39;00m\n\u001b[0;32m      9\u001b[0m \u001b[38;5;66;03m# out = decode(tensor_image.unsqueeze(0))\u001b[39;00m\n\u001b[0;32m     10\u001b[0m \u001b[38;5;66;03m# print(out)\u001b[39;00m\n",
      "File \u001b[1;32mc:\\TempDesktop\\hacktrick\\Cipher-Sphere\\Solvers\\riddle_solvers.py:203\u001b[0m, in \u001b[0;36msolve_sec_medium\u001b[1;34m(input)\u001b[0m\n\u001b[0;32m    193\u001b[0m \u001b[38;5;66;03m# img = torch.tensor(input)\u001b[39;00m\n\u001b[0;32m    194\u001b[0m \u001b[38;5;124;03m\"\"\"\u001b[39;00m\n\u001b[0;32m    195\u001b[0m \u001b[38;5;124;03mThis function takes a torch.Tensor as input and returns a string as output.\u001b[39;00m\n\u001b[0;32m    196\u001b[0m \n\u001b[1;32m   (...)\u001b[0m\n\u001b[0;32m    201\u001b[0m \u001b[38;5;124;03mstr: A string representing the decoded message from the image.\u001b[39;00m\n\u001b[0;32m    202\u001b[0m \u001b[38;5;124;03m\"\"\"\u001b[39;00m\n\u001b[1;32m--> 203\u001b[0m out \u001b[38;5;241m=\u001b[39m \u001b[43mdecode\u001b[49m\u001b[43m(\u001b[49m\u001b[43mimg\u001b[49m\u001b[43m)\u001b[49m\n\u001b[0;32m    205\u001b[0m \u001b[38;5;28;01mreturn\u001b[39;00m out\n",
      "File \u001b[1;32mc:\\TempDesktop\\hacktrick\\Cipher-Sphere\\Solvers\\utils.py:154\u001b[0m, in \u001b[0;36mdecode\u001b[1;34m(generated)\u001b[0m\n\u001b[0;32m    153\u001b[0m \u001b[38;5;28;01mdef\u001b[39;00m \u001b[38;5;21mdecode\u001b[39m(generated: torch\u001b[38;5;241m.\u001b[39mTensor) \u001b[38;5;241m-\u001b[39m\u001b[38;5;241m>\u001b[39m \u001b[38;5;28mstr\u001b[39m:\n\u001b[1;32m--> 154\u001b[0m     text_return \u001b[38;5;241m=\u001b[39m \u001b[43mmake_message\u001b[49m\u001b[43m(\u001b[49m\u001b[43mgenerated\u001b[49m\u001b[43m)\u001b[49m\n\u001b[0;32m    155\u001b[0m     \u001b[38;5;28;01mreturn\u001b[39;00m text_return\n",
      "File \u001b[1;32mc:\\TempDesktop\\hacktrick\\Cipher-Sphere\\Solvers\\utils.py:133\u001b[0m, in \u001b[0;36mmake_message\u001b[1;34m(image)\u001b[0m\n\u001b[0;32m    130\u001b[0m \u001b[38;5;28;01mdef\u001b[39;00m \u001b[38;5;21mmake_message\u001b[39m(image):\n\u001b[0;32m    131\u001b[0m     image \u001b[38;5;241m=\u001b[39m image\u001b[38;5;241m.\u001b[39mto(device)\n\u001b[1;32m--> 133\u001b[0m     image \u001b[38;5;241m=\u001b[39m \u001b[43mdecoder\u001b[49m\u001b[43m(\u001b[49m\u001b[43mimage\u001b[49m\u001b[43m)\u001b[49m\u001b[38;5;241m.\u001b[39mview(\u001b[38;5;241m-\u001b[39m\u001b[38;5;241m1\u001b[39m) \u001b[38;5;241m>\u001b[39m \u001b[38;5;241m0\u001b[39m\n\u001b[0;32m    134\u001b[0m     image \u001b[38;5;241m=\u001b[39m torch\u001b[38;5;241m.\u001b[39mtensor(image, dtype\u001b[38;5;241m=\u001b[39mtorch\u001b[38;5;241m.\u001b[39muint8)\n\u001b[0;32m    136\u001b[0m     \u001b[38;5;66;03m# split and decode messages\u001b[39;00m\n",
      "File \u001b[1;32mc:\\Users\\ahmed\\AppData\\Local\\Programs\\Python\\Python39\\lib\\site-packages\\torch\\nn\\modules\\module.py:1501\u001b[0m, in \u001b[0;36mModule._call_impl\u001b[1;34m(self, *args, **kwargs)\u001b[0m\n\u001b[0;32m   1496\u001b[0m \u001b[38;5;66;03m# If we don't have any hooks, we want to skip the rest of the logic in\u001b[39;00m\n\u001b[0;32m   1497\u001b[0m \u001b[38;5;66;03m# this function, and just call forward.\u001b[39;00m\n\u001b[0;32m   1498\u001b[0m \u001b[38;5;28;01mif\u001b[39;00m \u001b[38;5;129;01mnot\u001b[39;00m (\u001b[38;5;28mself\u001b[39m\u001b[38;5;241m.\u001b[39m_backward_hooks \u001b[38;5;129;01mor\u001b[39;00m \u001b[38;5;28mself\u001b[39m\u001b[38;5;241m.\u001b[39m_backward_pre_hooks \u001b[38;5;129;01mor\u001b[39;00m \u001b[38;5;28mself\u001b[39m\u001b[38;5;241m.\u001b[39m_forward_hooks \u001b[38;5;129;01mor\u001b[39;00m \u001b[38;5;28mself\u001b[39m\u001b[38;5;241m.\u001b[39m_forward_pre_hooks\n\u001b[0;32m   1499\u001b[0m         \u001b[38;5;129;01mor\u001b[39;00m _global_backward_pre_hooks \u001b[38;5;129;01mor\u001b[39;00m _global_backward_hooks\n\u001b[0;32m   1500\u001b[0m         \u001b[38;5;129;01mor\u001b[39;00m _global_forward_hooks \u001b[38;5;129;01mor\u001b[39;00m _global_forward_pre_hooks):\n\u001b[1;32m-> 1501\u001b[0m     \u001b[38;5;28;01mreturn\u001b[39;00m forward_call(\u001b[38;5;241m*\u001b[39margs, \u001b[38;5;241m*\u001b[39m\u001b[38;5;241m*\u001b[39mkwargs)\n\u001b[0;32m   1502\u001b[0m \u001b[38;5;66;03m# Do not call functions when jit is used\u001b[39;00m\n\u001b[0;32m   1503\u001b[0m full_backward_hooks, non_full_backward_hooks \u001b[38;5;241m=\u001b[39m [], []\n",
      "File \u001b[1;32mc:\\TempDesktop\\hacktrick\\Cipher-Sphere\\Solvers\\decoders.py:81\u001b[0m, in \u001b[0;36mDenseDecoder.forward\u001b[1;34m(self, image)\u001b[0m\n\u001b[0;32m     80\u001b[0m \u001b[38;5;28;01mdef\u001b[39;00m \u001b[38;5;21mforward\u001b[39m(\u001b[38;5;28mself\u001b[39m, image):\n\u001b[1;32m---> 81\u001b[0m     x \u001b[38;5;241m=\u001b[39m \u001b[38;5;28;43mself\u001b[39;49m\u001b[38;5;241;43m.\u001b[39;49m\u001b[43m_models\u001b[49m\u001b[43m[\u001b[49m\u001b[38;5;241;43m0\u001b[39;49m\u001b[43m]\u001b[49m\u001b[43m(\u001b[49m\u001b[43mimage\u001b[49m\u001b[43m)\u001b[49m\n\u001b[0;32m     82\u001b[0m     x_list \u001b[38;5;241m=\u001b[39m [x]\n\u001b[0;32m     83\u001b[0m     x_1 \u001b[38;5;241m=\u001b[39m \u001b[38;5;28mself\u001b[39m\u001b[38;5;241m.\u001b[39m_models[\u001b[38;5;241m1\u001b[39m](torch\u001b[38;5;241m.\u001b[39mcat(x_list, dim\u001b[38;5;241m=\u001b[39m\u001b[38;5;241m1\u001b[39m))\n",
      "File \u001b[1;32mc:\\Users\\ahmed\\AppData\\Local\\Programs\\Python\\Python39\\lib\\site-packages\\torch\\nn\\modules\\module.py:1501\u001b[0m, in \u001b[0;36mModule._call_impl\u001b[1;34m(self, *args, **kwargs)\u001b[0m\n\u001b[0;32m   1496\u001b[0m \u001b[38;5;66;03m# If we don't have any hooks, we want to skip the rest of the logic in\u001b[39;00m\n\u001b[0;32m   1497\u001b[0m \u001b[38;5;66;03m# this function, and just call forward.\u001b[39;00m\n\u001b[0;32m   1498\u001b[0m \u001b[38;5;28;01mif\u001b[39;00m \u001b[38;5;129;01mnot\u001b[39;00m (\u001b[38;5;28mself\u001b[39m\u001b[38;5;241m.\u001b[39m_backward_hooks \u001b[38;5;129;01mor\u001b[39;00m \u001b[38;5;28mself\u001b[39m\u001b[38;5;241m.\u001b[39m_backward_pre_hooks \u001b[38;5;129;01mor\u001b[39;00m \u001b[38;5;28mself\u001b[39m\u001b[38;5;241m.\u001b[39m_forward_hooks \u001b[38;5;129;01mor\u001b[39;00m \u001b[38;5;28mself\u001b[39m\u001b[38;5;241m.\u001b[39m_forward_pre_hooks\n\u001b[0;32m   1499\u001b[0m         \u001b[38;5;129;01mor\u001b[39;00m _global_backward_pre_hooks \u001b[38;5;129;01mor\u001b[39;00m _global_backward_hooks\n\u001b[0;32m   1500\u001b[0m         \u001b[38;5;129;01mor\u001b[39;00m _global_forward_hooks \u001b[38;5;129;01mor\u001b[39;00m _global_forward_pre_hooks):\n\u001b[1;32m-> 1501\u001b[0m     \u001b[38;5;28;01mreturn\u001b[39;00m forward_call(\u001b[38;5;241m*\u001b[39margs, \u001b[38;5;241m*\u001b[39m\u001b[38;5;241m*\u001b[39mkwargs)\n\u001b[0;32m   1502\u001b[0m \u001b[38;5;66;03m# Do not call functions when jit is used\u001b[39;00m\n\u001b[0;32m   1503\u001b[0m full_backward_hooks, non_full_backward_hooks \u001b[38;5;241m=\u001b[39m [], []\n",
      "File \u001b[1;32mc:\\Users\\ahmed\\AppData\\Local\\Programs\\Python\\Python39\\lib\\site-packages\\torch\\nn\\modules\\container.py:217\u001b[0m, in \u001b[0;36mSequential.forward\u001b[1;34m(self, input)\u001b[0m\n\u001b[0;32m    215\u001b[0m \u001b[38;5;28;01mdef\u001b[39;00m \u001b[38;5;21mforward\u001b[39m(\u001b[38;5;28mself\u001b[39m, \u001b[38;5;28minput\u001b[39m):\n\u001b[0;32m    216\u001b[0m     \u001b[38;5;28;01mfor\u001b[39;00m module \u001b[38;5;129;01min\u001b[39;00m \u001b[38;5;28mself\u001b[39m:\n\u001b[1;32m--> 217\u001b[0m         \u001b[38;5;28minput\u001b[39m \u001b[38;5;241m=\u001b[39m \u001b[43mmodule\u001b[49m\u001b[43m(\u001b[49m\u001b[38;5;28;43minput\u001b[39;49m\u001b[43m)\u001b[49m\n\u001b[0;32m    218\u001b[0m     \u001b[38;5;28;01mreturn\u001b[39;00m \u001b[38;5;28minput\u001b[39m\n",
      "File \u001b[1;32mc:\\Users\\ahmed\\AppData\\Local\\Programs\\Python\\Python39\\lib\\site-packages\\torch\\nn\\modules\\module.py:1501\u001b[0m, in \u001b[0;36mModule._call_impl\u001b[1;34m(self, *args, **kwargs)\u001b[0m\n\u001b[0;32m   1496\u001b[0m \u001b[38;5;66;03m# If we don't have any hooks, we want to skip the rest of the logic in\u001b[39;00m\n\u001b[0;32m   1497\u001b[0m \u001b[38;5;66;03m# this function, and just call forward.\u001b[39;00m\n\u001b[0;32m   1498\u001b[0m \u001b[38;5;28;01mif\u001b[39;00m \u001b[38;5;129;01mnot\u001b[39;00m (\u001b[38;5;28mself\u001b[39m\u001b[38;5;241m.\u001b[39m_backward_hooks \u001b[38;5;129;01mor\u001b[39;00m \u001b[38;5;28mself\u001b[39m\u001b[38;5;241m.\u001b[39m_backward_pre_hooks \u001b[38;5;129;01mor\u001b[39;00m \u001b[38;5;28mself\u001b[39m\u001b[38;5;241m.\u001b[39m_forward_hooks \u001b[38;5;129;01mor\u001b[39;00m \u001b[38;5;28mself\u001b[39m\u001b[38;5;241m.\u001b[39m_forward_pre_hooks\n\u001b[0;32m   1499\u001b[0m         \u001b[38;5;129;01mor\u001b[39;00m _global_backward_pre_hooks \u001b[38;5;129;01mor\u001b[39;00m _global_backward_hooks\n\u001b[0;32m   1500\u001b[0m         \u001b[38;5;129;01mor\u001b[39;00m _global_forward_hooks \u001b[38;5;129;01mor\u001b[39;00m _global_forward_pre_hooks):\n\u001b[1;32m-> 1501\u001b[0m     \u001b[38;5;28;01mreturn\u001b[39;00m forward_call(\u001b[38;5;241m*\u001b[39margs, \u001b[38;5;241m*\u001b[39m\u001b[38;5;241m*\u001b[39mkwargs)\n\u001b[0;32m   1502\u001b[0m \u001b[38;5;66;03m# Do not call functions when jit is used\u001b[39;00m\n\u001b[0;32m   1503\u001b[0m full_backward_hooks, non_full_backward_hooks \u001b[38;5;241m=\u001b[39m [], []\n",
      "File \u001b[1;32mc:\\Users\\ahmed\\AppData\\Local\\Programs\\Python\\Python39\\lib\\site-packages\\torch\\nn\\modules\\conv.py:463\u001b[0m, in \u001b[0;36mConv2d.forward\u001b[1;34m(self, input)\u001b[0m\n\u001b[0;32m    462\u001b[0m \u001b[38;5;28;01mdef\u001b[39;00m \u001b[38;5;21mforward\u001b[39m(\u001b[38;5;28mself\u001b[39m, \u001b[38;5;28minput\u001b[39m: Tensor) \u001b[38;5;241m-\u001b[39m\u001b[38;5;241m>\u001b[39m Tensor:\n\u001b[1;32m--> 463\u001b[0m     \u001b[38;5;28;01mreturn\u001b[39;00m \u001b[38;5;28;43mself\u001b[39;49m\u001b[38;5;241;43m.\u001b[39;49m\u001b[43m_conv_forward\u001b[49m\u001b[43m(\u001b[49m\u001b[38;5;28;43minput\u001b[39;49m\u001b[43m,\u001b[49m\u001b[43m \u001b[49m\u001b[38;5;28;43mself\u001b[39;49m\u001b[38;5;241;43m.\u001b[39;49m\u001b[43mweight\u001b[49m\u001b[43m,\u001b[49m\u001b[43m \u001b[49m\u001b[38;5;28;43mself\u001b[39;49m\u001b[38;5;241;43m.\u001b[39;49m\u001b[43mbias\u001b[49m\u001b[43m)\u001b[49m\n",
      "File \u001b[1;32mc:\\Users\\ahmed\\AppData\\Local\\Programs\\Python\\Python39\\lib\\site-packages\\torch\\nn\\modules\\conv.py:459\u001b[0m, in \u001b[0;36mConv2d._conv_forward\u001b[1;34m(self, input, weight, bias)\u001b[0m\n\u001b[0;32m    455\u001b[0m \u001b[38;5;28;01mif\u001b[39;00m \u001b[38;5;28mself\u001b[39m\u001b[38;5;241m.\u001b[39mpadding_mode \u001b[38;5;241m!=\u001b[39m \u001b[38;5;124m'\u001b[39m\u001b[38;5;124mzeros\u001b[39m\u001b[38;5;124m'\u001b[39m:\n\u001b[0;32m    456\u001b[0m     \u001b[38;5;28;01mreturn\u001b[39;00m F\u001b[38;5;241m.\u001b[39mconv2d(F\u001b[38;5;241m.\u001b[39mpad(\u001b[38;5;28minput\u001b[39m, \u001b[38;5;28mself\u001b[39m\u001b[38;5;241m.\u001b[39m_reversed_padding_repeated_twice, mode\u001b[38;5;241m=\u001b[39m\u001b[38;5;28mself\u001b[39m\u001b[38;5;241m.\u001b[39mpadding_mode),\n\u001b[0;32m    457\u001b[0m                     weight, bias, \u001b[38;5;28mself\u001b[39m\u001b[38;5;241m.\u001b[39mstride,\n\u001b[0;32m    458\u001b[0m                     _pair(\u001b[38;5;241m0\u001b[39m), \u001b[38;5;28mself\u001b[39m\u001b[38;5;241m.\u001b[39mdilation, \u001b[38;5;28mself\u001b[39m\u001b[38;5;241m.\u001b[39mgroups)\n\u001b[1;32m--> 459\u001b[0m \u001b[38;5;28;01mreturn\u001b[39;00m \u001b[43mF\u001b[49m\u001b[38;5;241;43m.\u001b[39;49m\u001b[43mconv2d\u001b[49m\u001b[43m(\u001b[49m\u001b[38;5;28;43minput\u001b[39;49m\u001b[43m,\u001b[49m\u001b[43m \u001b[49m\u001b[43mweight\u001b[49m\u001b[43m,\u001b[49m\u001b[43m \u001b[49m\u001b[43mbias\u001b[49m\u001b[43m,\u001b[49m\u001b[43m \u001b[49m\u001b[38;5;28;43mself\u001b[39;49m\u001b[38;5;241;43m.\u001b[39;49m\u001b[43mstride\u001b[49m\u001b[43m,\u001b[49m\n\u001b[0;32m    460\u001b[0m \u001b[43m                \u001b[49m\u001b[38;5;28;43mself\u001b[39;49m\u001b[38;5;241;43m.\u001b[39;49m\u001b[43mpadding\u001b[49m\u001b[43m,\u001b[49m\u001b[43m \u001b[49m\u001b[38;5;28;43mself\u001b[39;49m\u001b[38;5;241;43m.\u001b[39;49m\u001b[43mdilation\u001b[49m\u001b[43m,\u001b[49m\u001b[43m \u001b[49m\u001b[38;5;28;43mself\u001b[39;49m\u001b[38;5;241;43m.\u001b[39;49m\u001b[43mgroups\u001b[49m\u001b[43m)\u001b[49m\n",
      "\u001b[1;31mRuntimeError\u001b[0m: Given groups=1, weight of size [32, 3, 3, 3], expected input[1, 4, 20, 20] to have 3 channels, but got 4 channels instead"
     ]
    }
   ],
   "source": [
    "# image_path = 'SteganoGAN/sample_example/image_0.png'\n",
    "# image = Image.open(image_path)\n",
    "# solve_sec_medium(image)\n",
    "\n",
    "# # transform = transforms.Compose([\n",
    "# #     transforms.ToTensor(),\n",
    "# # ])\n",
    "# # tensor_image = transform(image)\n",
    "# # out = decode(tensor_image.unsqueeze(0))\n",
    "# # print(out)"
   ]
  },
  {
   "cell_type": "code",
   "execution_count": 4,
   "metadata": {},
   "outputs": [],
   "source": [
    "text = \"  co .  \"\n",
    "payload_sent = {\n",
    "        'teamId': team_id,\n",
    "        \"solution\":text\n",
    "    }\n",
    "response = requests.post(\"http://localhost:3005/fox/send-message\", json=payload_sent)"
   ]
  }
 ],
 "metadata": {
  "kernelspec": {
   "display_name": "Python 3",
   "language": "python",
   "name": "python3"
  },
  "language_info": {
   "codemirror_mode": {
    "name": "ipython",
    "version": 3
   },
   "file_extension": ".py",
   "mimetype": "text/x-python",
   "name": "python",
   "nbconvert_exporter": "python",
   "pygments_lexer": "ipython3",
   "version": "3.9.2"
  }
 },
 "nbformat": 4,
 "nbformat_minor": 2
}
